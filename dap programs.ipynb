{
 "cells": [
  {
   "cell_type": "code",
   "execution_count": 1,
   "id": "804f718a-b033-486a-920c-02f61aa5b2af",
   "metadata": {},
   "outputs": [
    {
     "name": "stdin",
     "output_type": "stream",
     "text": [
      "Enter the first number:  2\n",
      "Enter the second number:  3\n"
     ]
    },
    {
     "name": "stdout",
     "output_type": "stream",
     "text": [
      "The sum of 2.0 and 3.0 is: 5.0\n"
     ]
    }
   ],
   "source": [
    "#python program to add two numbers\n",
    "num1 = float(input(\"Enter the first number: \"))\n",
    "num2 = float(input(\"Enter the second number: \"))\n",
    "sum_result = num1 + num2\n",
    "print(\"The sum of {} and {} is: {}\".format(num1, num2, sum_result))\n"
   ]
  },
  {
   "cell_type": "code",
   "execution_count": 2,
   "id": "156d10a0-9738-48aa-9012-e53ee01e99b8",
   "metadata": {},
   "outputs": [
    {
     "name": "stdin",
     "output_type": "stream",
     "text": [
      "Enter the first number:  3\n",
      "Enter the second number:  4\n"
     ]
    },
    {
     "name": "stdout",
     "output_type": "stream",
     "text": [
      "The maximum of 3.0 and 4.0 is: 4.0\n"
     ]
    }
   ],
   "source": [
    "#maximum of two numbers\n",
    "num1 = float(input(\"Enter the first number: \"))\n",
    "num2 = float(input(\"Enter the second number: \"))\n",
    "max_value = max(num1, num2)\n",
    "print(\"The maximum of {} and {} is: {}\".format(num1, num2, max_value))\n"
   ]
  },
  {
   "cell_type": "code",
   "execution_count": null,
   "id": "54cce4f1-42cd-4ccf-bdbb-b8550f6fbeb0",
   "metadata": {},
   "outputs": [],
   "source": [
    "#python program for factorial of a number\n",
    "def factorial(n):\n",
    "    if n == 0 or n == 1:\n",
    "        return 1\n",
    "    else:\n",
    "        return n * factorial(n - 1)\n",
    "num = int(input(\"Enter a number: \"))\n",
    "\n",
    "if num < 0:\n",
    "    print(\"Factorial is not defined for negative numbers.\")\n",
    "else:\n",
    "    result = factorial(num)\n",
    "    print(\"The factorial of {} is: {}\".format(num, result))"
   ]
  },
  {
   "cell_type": "code",
   "execution_count": 6,
   "id": "a8a5f12d-8eaf-4c58-b163-36aac0ef36f3",
   "metadata": {},
   "outputs": [
    {
     "name": "stdin",
     "output_type": "stream",
     "text": [
      "Enter the principal amount:  200\n",
      "Enter the annual interest rate (%):  2\n",
      "Enter the time period (in years):  2\n"
     ]
    },
    {
     "name": "stdout",
     "output_type": "stream",
     "text": [
      "Simple Interest: $8.00\n"
     ]
    }
   ],
   "source": [
    "#python program for simple interest\n",
    "def calculate_simple_interest(principal, rate, time):\n",
    "    interest = (principal * rate * time) / 100\n",
    "    return interest\n",
    "    \n",
    "principal = float(input(\"Enter the principal amount: \"))\n",
    "rate = float(input(\"Enter the annual interest rate (%): \"))\n",
    "time = float(input(\"Enter the time period (in years): \"))\n",
    "\n",
    "simple_interest = calculate_simple_interest(principal, rate, time)\n",
    "print(\"Simple Interest: ${:.2f}\".format(simple_interest))"
   ]
  },
  {
   "cell_type": "code",
   "execution_count": 1,
   "id": "e6fd072c-78f6-4dd3-9932-52a489296f90",
   "metadata": {},
   "outputs": [
    {
     "name": "stdin",
     "output_type": "stream",
     "text": [
      "Enter the principal amount:  100\n",
      "Enter the annual interest rate (%):  2\n",
      "Enter the time period (in years):  3\n",
      "Enter the compounding frequency per year:  2\n"
     ]
    },
    {
     "name": "stdout",
     "output_type": "stream",
     "text": [
      "Compound Interest: $6.15\n"
     ]
    }
   ],
   "source": [
    "# Function to calculate compound interest\n",
    "def calculate_compound_interest(principal, rate, time, n):\n",
    "    amount = principal * (1 + rate/n)**(n*time)\n",
    "    compound_interest = amount - principal\n",
    "    return compound_interest\n",
    "\n",
    "# Get input from the user\n",
    "principal = float(input(\"Enter the principal amount: \"))\n",
    "rate = float(input(\"Enter the annual interest rate (%): \"))\n",
    "time = float(input(\"Enter the time period (in years): \"))\n",
    "compounding_frequency = int(input(\"Enter the compounding frequency per year: \"))\n",
    "\n",
    "# Calculate and display the compound interest\n",
    "compound_interest = calculate_compound_interest(principal, rate/100, time, compounding_frequency)\n",
    "print(\"Compound Interest: ${:.2f}\".format(compound_interest))\n"
   ]
  },
  {
   "cell_type": "code",
   "execution_count": 2,
   "id": "9927c5d4-c5b6-4e91-9f77-8a543f62c896",
   "metadata": {},
   "outputs": [
    {
     "name": "stdin",
     "output_type": "stream",
     "text": [
      "Enter a number:  50\n"
     ]
    },
    {
     "name": "stdout",
     "output_type": "stream",
     "text": [
      "50 is not an Armstrong number.\n"
     ]
    }
   ],
   "source": [
    "# Function to check if a number is an Armstrong number\n",
    "def is_armstrong_number(num):\n",
    "    temp = num\n",
    "    order = len(str(num))\n",
    "    sum = 0\n",
    "\n",
    "    while temp > 0:\n",
    "        digit = temp % 10\n",
    "        sum += digit ** order\n",
    "        temp //= 10\n",
    "\n",
    "    return num == sum\n",
    "\n",
    "# Get input from the user\n",
    "number = int(input(\"Enter a number: \"))\n",
    "\n",
    "# Check and display the result\n",
    "if is_armstrong_number(number):\n",
    "    print(\"{} is an Armstrong number.\".format(number))\n",
    "else:\n",
    "    print(\"{} is not an Armstrong number.\".format(number))"
   ]
  },
  {
   "cell_type": "code",
   "execution_count": 3,
   "id": "12b06a5e-dde4-4d10-a199-47f4efc2ad44",
   "metadata": {},
   "outputs": [
    {
     "name": "stdin",
     "output_type": "stream",
     "text": [
      "Enter the radius of the circle:  3\n"
     ]
    },
    {
     "name": "stdout",
     "output_type": "stream",
     "text": [
      "The area of the circle with radius 3.0 is: 28.27\n"
     ]
    }
   ],
   "source": [
    "import math\n",
    "\n",
    "# Function to calculate the area of a circle\n",
    "def calculate_circle_area(radius):\n",
    "    area = math.pi * radius ** 2\n",
    "    return area\n",
    "\n",
    "# Get input from the user\n",
    "radius = float(input(\"Enter the radius of the circle: \"))\n",
    "\n",
    "# Check for non-negative input\n",
    "if radius < 0:\n",
    "    print(\"Radius cannot be negative.\")\n",
    "else:\n",
    "    # Calculate and display the area\n",
    "    circle_area = calculate_circle_area(radius)\n",
    "    print(\"The area of the circle with radius {} is: {:.2f}\".format(radius, circle_area))"
   ]
  },
  {
   "cell_type": "code",
   "execution_count": 5,
   "id": "d3b02a1b-b4b2-444f-b357-53cce41371c7",
   "metadata": {},
   "outputs": [
    {
     "name": "stdin",
     "output_type": "stream",
     "text": [
      "Enter the start of the interval:  10\n",
      "Enter the end of the interval:  50\n"
     ]
    },
    {
     "name": "stdout",
     "output_type": "stream",
     "text": [
      "Prime numbers in the interval 10 to 50 are: [11, 13, 17, 19, 23, 29, 31, 37, 41, 43, 47]\n"
     ]
    }
   ],
   "source": [
    "# Function to check if a number is prime\n",
    "def is_prime(num):\n",
    "    if num <= 1:\n",
    "        return False\n",
    "    for i in range(2, int(num**0.5) + 1):\n",
    "        if num % i == 0:\n",
    "            return False\n",
    "    return True\n",
    "\n",
    "# Function to print prime numbers in an interval\n",
    "def print_prime_numbers(start, end):\n",
    "    prime_numbers = [num for num in range(start, end + 1) if is_prime(num)]\n",
    "    return prime_numbers\n",
    "\n",
    "# Get input from the user\n",
    "start_num = int(input(\"Enter the start of the interval: \"))\n",
    "end_num = int(input(\"Enter the end of the interval: \"))\n",
    "\n",
    "# Check for valid interval\n",
    "if start_num < 0 or end_num < 0 or start_num > end_num:\n",
    "    print(\"Invalid interval. Please enter valid start and end numbers.\")\n",
    "else:\n",
    "    # Print and display prime numbers in the interval\n",
    "    primes_in_interval = print_prime_numbers(start_num, end_num)\n",
    "    if primes_in_interval:\n",
    "        print(\"Prime numbers in the interval {} to {} are: {}\".format(start_num, end_num, primes_in_interval))\n",
    "    else:\n",
    "        print(\"No prime numbers in the interval {} to {}.\".format(start_num, end_num))"
   ]
  },
  {
   "cell_type": "code",
   "execution_count": 6,
   "id": "40c1c4a6-96d3-4e51-a5f8-4e27f4a7e933",
   "metadata": {},
   "outputs": [
    {
     "name": "stdin",
     "output_type": "stream",
     "text": [
      "Enter a number:  6\n"
     ]
    },
    {
     "name": "stdout",
     "output_type": "stream",
     "text": [
      "6 is not a prime number.\n"
     ]
    }
   ],
   "source": [
    "# Function to check if a number is prime\n",
    "def is_prime(num):\n",
    "    if num <= 1:\n",
    "        return False\n",
    "    for i in range(2, int(num**0.5) + 1):\n",
    "        if num % i == 0:\n",
    "            return False\n",
    "    return True\n",
    "\n",
    "# Get input from the user\n",
    "number = int(input(\"Enter a number: \"))\n",
    "\n",
    "# Check and display the result\n",
    "if is_prime(number):\n",
    "    print(\"{} is a prime number.\".format(number))\n",
    "else:\n",
    "    print(\"{} is not a prime number.\".format(number))"
   ]
  },
  {
   "cell_type": "code",
   "execution_count": 7,
   "id": "a83cc429-6b0b-4296-8102-6c5e3c286fca",
   "metadata": {},
   "outputs": [
    {
     "name": "stdin",
     "output_type": "stream",
     "text": [
      "Enter the value of n to find the nth Fibonacci number:  5\n"
     ]
    },
    {
     "name": "stdout",
     "output_type": "stream",
     "text": [
      "The 5th Fibonacci number is: 3\n"
     ]
    }
   ],
   "source": [
    "# Function to find the nth Fibonacci number\n",
    "def fibonacci(n):\n",
    "    if n <= 0:\n",
    "        return \"Invalid input. Please enter a positive integer.\"\n",
    "    elif n == 1:\n",
    "        return 0\n",
    "    elif n == 2:\n",
    "        return 1\n",
    "    else:\n",
    "        fib_sequence = [0, 1]\n",
    "        for i in range(2, n):\n",
    "            next_fib = fib_sequence[i - 1] + fib_sequence[i - 2]\n",
    "            fib_sequence.append(next_fib)\n",
    "        return fib_sequence[-1]\n",
    "\n",
    "# Get input from the user\n",
    "n = int(input(\"Enter the value of n to find the nth Fibonacci number: \"))\n",
    "\n",
    "# Display the result\n",
    "result = fibonacci(n)\n",
    "print(\"The {}th Fibonacci number is: {}\".format(n, result))"
   ]
  },
  {
   "cell_type": "code",
   "execution_count": 8,
   "id": "2e577371-2ff4-4695-9a2a-8eb0e216baf7",
   "metadata": {},
   "outputs": [
    {
     "name": "stdin",
     "output_type": "stream",
     "text": [
      "Enter a number to check if it's a Fibonacci number:  8\n"
     ]
    },
    {
     "name": "stdout",
     "output_type": "stream",
     "text": [
      "8 is a Fibonacci number.\n"
     ]
    }
   ],
   "source": [
    "# Function to check if a number is a Fibonacci number\n",
    "def is_fibonacci(num):\n",
    "    if num < 0:\n",
    "        return False\n",
    "\n",
    "    a, b = 0, 1\n",
    "    while a <= num:\n",
    "        if a == num:\n",
    "            return True\n",
    "        a, b = b, a + b\n",
    "\n",
    "    return False\n",
    "\n",
    "# Get input from the user\n",
    "number = int(input(\"Enter a number to check if it's a Fibonacci number: \"))\n",
    "\n",
    "# Check and display the result\n",
    "if is_fibonacci(number):\n",
    "    print(\"{} is a Fibonacci number.\".format(number))\n",
    "else:\n",
    "    print(\"{} is not a Fibonacci number.\".format(number))"
   ]
  },
  {
   "cell_type": "code",
   "execution_count": 10,
   "id": "5f9691fc-d09e-494e-8ac0-6d2ac8985d10",
   "metadata": {},
   "outputs": [
    {
     "name": "stdin",
     "output_type": "stream",
     "text": [
      "Enter a character:  s\n"
     ]
    },
    {
     "name": "stdout",
     "output_type": "stream",
     "text": [
      "The ASCII value of 's' is: 115\n"
     ]
    }
   ],
   "source": [
    "#Program to print ASCII Value of a character\n",
    "character = input(\"Enter a character: \")\n",
    "\n",
    "# Check if the input is a single character\n",
    "if len(character) == 1:\n",
    "    # Use ord() function to get the ASCII value\n",
    "    ascii_value = ord(character)\n",
    "    print(\"The ASCII value of '{}' is: {}\".format(character, ascii_value))\n",
    "else:\n",
    "    print(\"Please enter a single character.\")\n",
    "\n"
   ]
  },
  {
   "cell_type": "code",
   "execution_count": 11,
   "id": "9ad4de05-ce39-484e-8f9a-c84736853974",
   "metadata": {},
   "outputs": [
    {
     "name": "stdin",
     "output_type": "stream",
     "text": [
      "Enter the value of n:  6\n"
     ]
    },
    {
     "name": "stdout",
     "output_type": "stream",
     "text": [
      "The sum of squares of the first 6 natural numbers is: 91\n"
     ]
    }
   ],
   "source": [
    "# Function to calculate the sum of squares of first n natural numbers\n",
    "def sum_of_squares(n):\n",
    "    return n * (n + 1) * (2 * n + 1) // 6\n",
    "\n",
    "# Get input from the user\n",
    "n = int(input(\"Enter the value of n: \"))\n",
    "\n",
    "# Check for valid input\n",
    "if n < 1:\n",
    "    print(\"Please enter a positive integer.\")\n",
    "else:\n",
    "    # Calculate and display the result\n",
    "    result = sum_of_squares(n)\n",
    "    print(\"The sum of squares of the first {} natural numbers is: {}\".format(n, result))"
   ]
  },
  {
   "cell_type": "code",
   "execution_count": 12,
   "id": "5fb78958-61f8-4b3c-bdd1-aa1c854f7605",
   "metadata": {},
   "outputs": [
    {
     "name": "stdin",
     "output_type": "stream",
     "text": [
      "Enter the value of n:  6\n"
     ]
    },
    {
     "name": "stdout",
     "output_type": "stream",
     "text": [
      "The cube sum of the first 6 natural numbers is: 441\n"
     ]
    }
   ],
   "source": [
    "# Function to calculate the cube sum of first n natural numbers\n",
    "def cube_sum(n):\n",
    "    return (n * (n + 1) // 2) ** 2\n",
    "\n",
    "# Get input from the user\n",
    "n = int(input(\"Enter the value of n: \"))\n",
    "\n",
    "# Check for valid input\n",
    "if n < 1:\n",
    "    print(\"Please enter a positive integer.\")\n",
    "else:\n",
    "    # Calculate and display the result\n",
    "    result = cube_sum(n)\n",
    "    print(\"The cube sum of the first {} natural numbers is: {}\".format(n, result))"
   ]
  },
  {
   "cell_type": "code",
   "execution_count": 13,
   "id": "680824ed-4f25-48ec-b779-283f66d1996f",
   "metadata": {},
   "outputs": [
    {
     "name": "stdin",
     "output_type": "stream",
     "text": [
      "Enter space-separated numbers in the array:  4\n"
     ]
    },
    {
     "name": "stdout",
     "output_type": "stream",
     "text": [
      "The sum of the array is: 4\n"
     ]
    }
   ],
   "source": [
    "# Function to calculate the sum of an array\n",
    "def sum_of_array(arr):\n",
    "    return sum(arr)\n",
    "\n",
    "# Get input from the user\n",
    "# Assuming the user enters space-separated numbers\n",
    "input_numbers = input(\"Enter space-separated numbers in the array: \")\n",
    "array = list(map(int, input_numbers.split()))\n",
    "\n",
    "# Calculate and display the result\n",
    "result = sum_of_array(array)\n",
    "print(\"The sum of the array is:\", result)"
   ]
  },
  {
   "cell_type": "code",
   "execution_count": 14,
   "id": "300f00d4-815c-42d7-9a18-da9b9b7d26db",
   "metadata": {},
   "outputs": [
    {
     "name": "stdin",
     "output_type": "stream",
     "text": [
      "Enter space-separated numbers in the array:  9\n"
     ]
    },
    {
     "name": "stdout",
     "output_type": "stream",
     "text": [
      "The largest element in the array is: 9\n"
     ]
    }
   ],
   "source": [
    "# Function to find the largest element in an array\n",
    "def find_largest_element(arr):\n",
    "    if not arr:\n",
    "        return \"Array is empty\"\n",
    "\n",
    "    largest_element = arr[0]\n",
    "    for element in arr:\n",
    "        if element > largest_element:\n",
    "            largest_element = element\n",
    "\n",
    "    return largest_element\n",
    "\n",
    "# Get input from the user\n",
    "# Assuming the user enters space-separated numbers\n",
    "input_numbers = input(\"Enter space-separated numbers in the array: \")\n",
    "array = list(map(int, input_numbers.split()))\n",
    "\n",
    "# Calculate and display the result\n",
    "result = find_largest_element(array)\n",
    "print(\"The largest element in the array is:\", result)"
   ]
  },
  {
   "cell_type": "code",
   "execution_count": 15,
   "id": "7c460cbd-db1a-4a2d-9ca3-5096d7480d9b",
   "metadata": {},
   "outputs": [
    {
     "name": "stdin",
     "output_type": "stream",
     "text": [
      "Enter space-separated numbers in the array:  5\n",
      "Enter the number of positions to rotate the array:  4\n"
     ]
    },
    {
     "name": "stdout",
     "output_type": "stream",
     "text": [
      "Array after rotation: [5]\n"
     ]
    }
   ],
   "source": [
    "# Function to rotate an array by d positions\n",
    "def rotate_array(arr, d):\n",
    "    n = len(arr)\n",
    "    d = d % n  # Handle cases where d is greater than the length of the array\n",
    "\n",
    "    # Rotate the array using slicing\n",
    "    rotated_array = arr[d:] + arr[:d]\n",
    "    \n",
    "    return rotated_array\n",
    "\n",
    "# Get input from the user\n",
    "# Assuming the user enters space-separated numbers\n",
    "input_numbers = input(\"Enter space-separated numbers in the array: \")\n",
    "array = list(map(int, input_numbers.split()))\n",
    "\n",
    "# Get the rotation count from the user\n",
    "rotation_count = int(input(\"Enter the number of positions to rotate the array: \"))\n",
    "\n",
    "# Calculate and display the result\n",
    "result = rotate_array(array, rotation_count)\n",
    "print(\"Array after rotation:\", result)"
   ]
  },
  {
   "cell_type": "code",
   "execution_count": 16,
   "id": "ccbed41d-7058-4a73-a74f-ac153aee82c8",
   "metadata": {},
   "outputs": [
    {
     "name": "stdin",
     "output_type": "stream",
     "text": [
      "Enter space-separated numbers in the array:  4\n",
      "Enter the number of positions to rotate the array:  3\n"
     ]
    },
    {
     "name": "stdout",
     "output_type": "stream",
     "text": [
      "Array after rotation: [4]\n"
     ]
    }
   ],
   "source": [
    "# Function to reverse an array in-place\n",
    "def reverse_array(arr, start, end):\n",
    "    while start < end:\n",
    "        arr[start], arr[end] = arr[end], arr[start]\n",
    "        start += 1\n",
    "        end -= 1\n",
    "\n",
    "# Function to rotate an array by d positions using reversal algorithm\n",
    "def rotate_array_reversal(arr, d):\n",
    "    n = len(arr)\n",
    "    d = d % n  # Handle cases where d is greater than the length of the array\n",
    "\n",
    "    # Reverse the first part of the array (0 to d-1)\n",
    "    reverse_array(arr, 0, d - 1)\n",
    "\n",
    "    # Reverse the second part of the array (d to n-1)\n",
    "    reverse_array(arr, d, n - 1)\n",
    "\n",
    "    # Reverse the entire array\n",
    "    reverse_array(arr, 0, n - 1)\n",
    "\n",
    "    return arr\n",
    "\n",
    "# Get input from the user\n",
    "# Assuming the user enters space-separated numbers\n",
    "input_numbers = input(\"Enter space-separated numbers in the array: \")\n",
    "array = list(map(int, input_numbers.split()))\n",
    "\n",
    "# Get the rotation count from the user\n",
    "rotation_count = int(input(\"Enter the number of positions to rotate the array: \"))\n",
    "\n",
    "# Calculate and display the result\n",
    "result = rotate_array_reversal(array, rotation_count)\n",
    "print(\"Array after rotation:\", result)"
   ]
  },
  {
   "cell_type": "code",
   "execution_count": 17,
   "id": "17d4869e-a246-4c70-bf7b-149241db6956",
   "metadata": {},
   "outputs": [
    {
     "name": "stdin",
     "output_type": "stream",
     "text": [
      "Enter space-separated numbers in the array:  4\n",
      "Enter the index to split the array:  5\n"
     ]
    },
    {
     "name": "stdout",
     "output_type": "stream",
     "text": [
      "Array after splitting and adding the first part to the end: Invalid value for k. Please choose a value between 1 and the length of the array.\n"
     ]
    }
   ],
   "source": [
    "# Function to split the array and add the first part to the end\n",
    "def split_and_add(arr, k):\n",
    "    if k > 0 and k < len(arr):\n",
    "        # Split the array at index k\n",
    "        first_part = arr[:k]\n",
    "        second_part = arr[k:]\n",
    "\n",
    "        # Add the first part to the end\n",
    "        rotated_array = second_part + first_part\n",
    "\n",
    "        return rotated_array\n",
    "    else:\n",
    "        return \"Invalid value for k. Please choose a value between 1 and the length of the array.\"\n",
    "\n",
    "# Get input from the user\n",
    "# Assuming the user enters space-separated numbers\n",
    "input_numbers = input(\"Enter space-separated numbers in the array: \")\n",
    "array = list(map(int, input_numbers.split()))\n",
    "\n",
    "# Get the split index from the user\n",
    "split_index = int(input(\"Enter the index to split the array: \"))\n",
    "\n",
    "# Calculate and display the result\n",
    "result = split_and_add(array, split_index)\n",
    "print(\"Array after splitting and adding the first part to the end:\", result)"
   ]
  },
  {
   "cell_type": "code",
   "execution_count": 18,
   "id": "fcab2d6b-74e4-4436-ab0e-9c431901de88",
   "metadata": {},
   "outputs": [
    {
     "name": "stdin",
     "output_type": "stream",
     "text": [
      "Enter space-separated numbers in the array:  6\n",
      "Enter the value of n:  7\n"
     ]
    },
    {
     "name": "stdout",
     "output_type": "stream",
     "text": [
      "Remainder of array multiplication divided by 7 is: 6\n"
     ]
    }
   ],
   "source": [
    "# Function to find the remainder of array multiplication divided by n\n",
    "def remainder_of_array_multiplication(arr, n):\n",
    "    product = 1\n",
    "\n",
    "    # Calculate the product of array elements\n",
    "    for num in arr:\n",
    "        product = (product * num) % n\n",
    "\n",
    "    return product % n\n",
    "\n",
    "# Get input from the user\n",
    "# Assuming the user enters space-separated numbers\n",
    "input_numbers = input(\"Enter space-separated numbers in the array: \")\n",
    "array = list(map(int, input_numbers.split()))\n",
    "\n",
    "# Get the value of n from the user\n",
    "n = int(input(\"Enter the value of n: \"))\n",
    "\n",
    "# Calculate and display the result\n",
    "result = remainder_of_array_multiplication(array, n)\n",
    "print(\"Remainder of array multiplication divided by {} is: {}\".format(n, result))"
   ]
  },
  {
   "cell_type": "code",
   "execution_count": 19,
   "id": "5fe0973e-40a3-4a72-953c-39cbbf67be5b",
   "metadata": {},
   "outputs": [
    {
     "name": "stdin",
     "output_type": "stream",
     "text": [
      "Enter space-separated numbers in the array:  9\n"
     ]
    },
    {
     "name": "stdout",
     "output_type": "stream",
     "text": [
      "The given array is monotonic.\n"
     ]
    }
   ],
   "source": [
    "# Function to check if an array is monotonic\n",
    "def is_monotonic(arr):\n",
    "    increasing = decreasing = True\n",
    "\n",
    "    for i in range(1, len(arr)):\n",
    "        if arr[i] > arr[i - 1]:\n",
    "            decreasing = False\n",
    "        if arr[i] < arr[i - 1]:\n",
    "            increasing = False\n",
    "\n",
    "    return increasing or decreasing\n",
    "\n",
    "# Get input from the user\n",
    "# Assuming the user enters space-separated numbers\n",
    "input_numbers = input(\"Enter space-separated numbers in the array: \")\n",
    "array = list(map(int, input_numbers.split()))\n",
    "\n",
    "# Check and display the result\n",
    "if is_monotonic(array):\n",
    "    print(\"The given array is monotonic.\")\n",
    "else:\n",
    "    print(\"The given array is not monotonic.\")"
   ]
  },
  {
   "cell_type": "code",
   "execution_count": 20,
   "id": "ce1f5a63-e56b-4bf4-8b2a-e340d6ef21a8",
   "metadata": {},
   "outputs": [
    {
     "name": "stdin",
     "output_type": "stream",
     "text": [
      "Enter space-separated numbers in the list:  4\n"
     ]
    },
    {
     "name": "stdout",
     "output_type": "stream",
     "text": [
      "List after interchanging first and last elements: [4]\n"
     ]
    }
   ],
   "source": [
    "# Function to interchange first and last elements in a list\n",
    "def interchange_first_and_last(lst):\n",
    "    if len(lst) >= 2:\n",
    "        # Swap the first and last elements\n",
    "        lst[0], lst[-1] = lst[-1], lst[0]\n",
    "    return lst\n",
    "\n",
    "# Get input from the user\n",
    "# Assuming the user enters space-separated numbers\n",
    "input_numbers = input(\"Enter space-separated numbers in the list: \")\n",
    "my_list = list(map(int, input_numbers.split()))\n",
    "\n",
    "# Interchange the first and last elements\n",
    "result = interchange_first_and_last(my_list)\n",
    "\n",
    "# Display the result\n",
    "print(\"List after interchanging first and last elements:\", result)"
   ]
  },
  {
   "cell_type": "code",
   "execution_count": 21,
   "id": "25cc78d1-48e1-466d-987d-bafadf33e6bd",
   "metadata": {},
   "outputs": [
    {
     "name": "stdin",
     "output_type": "stream",
     "text": [
      "Enter space-separated numbers in the list:  4\n",
      "Enter the index of the first element to swap:  3\n",
      "Enter the index of the second element to swap:  2\n"
     ]
    },
    {
     "name": "stdout",
     "output_type": "stream",
     "text": [
      "List after swapping elements at indices 3 and 2: [4]\n"
     ]
    }
   ],
   "source": [
    "# Function to swap two elements in a list\n",
    "def swap_elements(lst, index1, index2):\n",
    "    if 0 <= index1 < len(lst) and 0 <= index2 < len(lst):\n",
    "        # Swap the elements at the specified indices\n",
    "        lst[index1], lst[index2] = lst[index2], lst[index1]\n",
    "    return lst\n",
    "\n",
    "# Get input from the user\n",
    "# Assuming the user enters space-separated numbers\n",
    "input_numbers = input(\"Enter space-separated numbers in the list: \")\n",
    "my_list = list(map(int, input_numbers.split()))\n",
    "\n",
    "# Get indices to swap from the user\n",
    "index1 = int(input(\"Enter the index of the first element to swap: \"))\n",
    "index2 = int(input(\"Enter the index of the second element to swap: \"))\n",
    "\n",
    "# Swap the elements at the specified indices\n",
    "result = swap_elements(my_list, index1, index2)\n",
    "\n",
    "# Display the result\n",
    "print(\"List after swapping elements at indices {} and {}: {}\".format(index1, index2, result))"
   ]
  },
  {
   "cell_type": "code",
   "execution_count": 23,
   "id": "c0d6fad6-137d-451d-a640-120622f6fb2f",
   "metadata": {},
   "outputs": [
    {
     "name": "stdout",
     "output_type": "stream",
     "text": [
      "Length of the list: 5\n"
     ]
    }
   ],
   "source": [
    "#Python | Ways to find length of list\n",
    "my_list = [1, 2, 3, 4, 5]\n",
    "length = len(my_list)\n",
    "print(\"Length of the list:\", length)\n"
   ]
  },
  {
   "cell_type": "code",
   "execution_count": 24,
   "id": "080c7dc3-222b-4bec-9880-123ebee7bdc8",
   "metadata": {},
   "outputs": [
    {
     "name": "stdout",
     "output_type": "stream",
     "text": [
      "Element exists in the list.\n"
     ]
    }
   ],
   "source": [
    "#4.\tPython | Ways to check if element exists in list\n",
    "\n",
    "my_list = [1, 2, 3, 4, 5]\n",
    "element_to_check = 3\n",
    "\n",
    "if element_to_check in my_list:\n",
    "    print(\"Element exists in the list.\")\n",
    "else:\n",
    "    print(\"Element does not exist in the list.\")"
   ]
  },
  {
   "cell_type": "code",
   "execution_count": 25,
   "id": "b6d3eed3-2ae1-4261-88a8-7ea06e224837",
   "metadata": {},
   "outputs": [
    {
     "name": "stdout",
     "output_type": "stream",
     "text": [
      "List after clearing: []\n"
     ]
    }
   ],
   "source": [
    "#5.\tDifferent ways to clear a list in Python\n",
    "my_list = [1, 2, 3, 4, 5]\n",
    "my_list.clear()\n",
    "print(\"List after clearing:\", my_list)\n",
    "\n"
   ]
  },
  {
   "cell_type": "code",
   "execution_count": 26,
   "id": "6e499d45-fb2a-4f4e-a9d9-b08267905132",
   "metadata": {},
   "outputs": [
    {
     "name": "stdout",
     "output_type": "stream",
     "text": [
      "Reversed list: [5, 4, 3, 2, 1]\n"
     ]
    }
   ],
   "source": [
    "#6.\tPython | Reversing a List\n",
    "\n",
    "my_list = [1, 2, 3, 4, 5]\n",
    "my_list.reverse()\n",
    "print(\"Reversed list:\", my_list)"
   ]
  },
  {
   "cell_type": "code",
   "execution_count": 27,
   "id": "afa39709-a131-4eb0-929c-273b9ae00277",
   "metadata": {},
   "outputs": [
    {
     "name": "stdout",
     "output_type": "stream",
     "text": [
      "Reversed list: [5, 4, 3, 2, 1]\n"
     ]
    }
   ],
   "source": [
    "#7.\tPython program to find sum of elements in list\n",
    "my_list = [1, 2, 3, 4, 5]\n",
    "my_list.reverse()\n",
    "print(\"Reversed list:\", my_list)\n"
   ]
  },
  {
   "cell_type": "code",
   "execution_count": 28,
   "id": "a52c8989-6cea-4ed2-9ccd-80f6dc755b96",
   "metadata": {},
   "outputs": [
    {
     "name": "stdout",
     "output_type": "stream",
     "text": [
      "Product of all numbers in the list: 120\n"
     ]
    }
   ],
   "source": [
    "#Python | Multiply all numbers in the list\n",
    "my_list = [1, 2, 3, 4, 5]\n",
    "result = 1\n",
    "\n",
    "for num in my_list:\n",
    "    result *= num\n",
    "\n",
    "print(\"Product of all numbers in the list:\", result)\n",
    "\n"
   ]
  },
  {
   "cell_type": "code",
   "execution_count": 29,
   "id": "731c98a1-b099-4e9e-8632-4ace4abae464",
   "metadata": {},
   "outputs": [
    {
     "name": "stdin",
     "output_type": "stream",
     "text": [
      "Enter space-separated numbers in the list:  5\n"
     ]
    },
    {
     "name": "stdout",
     "output_type": "stream",
     "text": [
      "The smallest number in the list is: 5\n"
     ]
    }
   ],
   "source": [
    "#Python program to find smallest number in a list\n",
    "def find_smallest_number(lst):\n",
    "    if not lst:\n",
    "        return \"List is empty\"\n",
    "\n",
    "    smallest_number = lst[0]\n",
    "\n",
    "    for num in lst:\n",
    "        if num < smallest_number:\n",
    "            smallest_number = num\n",
    "\n",
    "    return smallest_number\n",
    "\n",
    "# Get input from the user\n",
    "# Assuming the user enters space-separated numbers\n",
    "input_numbers = input(\"Enter space-separated numbers in the list: \")\n",
    "my_list = list(map(int, input_numbers.split()))\n",
    "\n",
    "# Find and display the smallest number\n",
    "result = find_smallest_number(my_list)\n",
    "print(\"The smallest number in the list is:\", result)\n",
    "\n"
   ]
  },
  {
   "cell_type": "code",
   "execution_count": 30,
   "id": "92e3f543-c321-415b-af13-4fc90f6bba89",
   "metadata": {},
   "outputs": [
    {
     "name": "stdin",
     "output_type": "stream",
     "text": [
      "Enter space-separated numbers in the list:  7\n"
     ]
    },
    {
     "name": "stdout",
     "output_type": "stream",
     "text": [
      "The largest number in the list is: 7\n"
     ]
    }
   ],
   "source": [
    "#Python program to find largest number in a list\n",
    "def find_largest_number(lst):\n",
    "    if not lst:\n",
    "        return \"List is empty\"\n",
    "\n",
    "    largest_number = lst[0]\n",
    "\n",
    "    for num in lst:\n",
    "        if num > largest_number:\n",
    "            largest_number = num\n",
    "\n",
    "    return largest_number\n",
    "\n",
    "# Get input from the user\n",
    "# Assuming the user enters space-separated numbers\n",
    "input_numbers = input(\"Enter space-separated numbers in the list: \")\n",
    "my_list = list(map(int, input_numbers.split()))\n",
    "\n",
    "# Find and display the largest number\n",
    "result = find_largest_number(my_list)\n",
    "print(\"The largest number in the list is:\", result)\n",
    "\n"
   ]
  },
  {
   "cell_type": "code",
   "execution_count": 31,
   "id": "0eadb200-db97-4805-9a64-11a25efd839d",
   "metadata": {},
   "outputs": [
    {
     "name": "stdin",
     "output_type": "stream",
     "text": [
      "Enter space-separated numbers in the list:  5\n"
     ]
    },
    {
     "name": "stdout",
     "output_type": "stream",
     "text": [
      "The second largest number in the list is: List should have at least two elements\n"
     ]
    }
   ],
   "source": [
    "#Python program to find second largest number in a list\n",
    "def find_second_largest(lst):\n",
    "    if len(lst) < 2:\n",
    "        return \"List should have at least two elements\"\n",
    "\n",
    "    largest = second_largest = float('-inf')\n",
    "\n",
    "    for num in lst:\n",
    "        if num > largest:\n",
    "            second_largest = largest\n",
    "            largest = num\n",
    "        elif num > second_largest and num != largest:\n",
    "            second_largest = num\n",
    "\n",
    "    if second_largest == float('-inf'):\n",
    "        return \"No second largest element found\"\n",
    "    else:\n",
    "        return second_largest\n",
    "\n",
    "# Get input from the user\n",
    "# Assuming the user enters space-separated numbers\n",
    "input_numbers = input(\"Enter space-separated numbers in the list: \")\n",
    "my_list = list(map(int, input_numbers.split()))\n",
    "\n",
    "# Find and display the second largest number\n",
    "result = find_second_largest(my_list)\n",
    "print(\"The second largest number in the list is:\", result)\n",
    "\n"
   ]
  },
  {
   "cell_type": "code",
   "execution_count": 32,
   "id": "d85878b7-72cf-4cac-b2e6-8b595b2488dc",
   "metadata": {},
   "outputs": [
    {
     "name": "stdin",
     "output_type": "stream",
     "text": [
      "Enter space-separated numbers in the list:  6\n",
      "Enter the value of N:  5\n"
     ]
    },
    {
     "name": "stdout",
     "output_type": "stream",
     "text": [
      "The 5 largest elements in the list are: List should have at least 5 elements\n"
     ]
    }
   ],
   "source": [
    "#Python program to find N largest elements from a list\n",
    "# Function to find the N largest elements in a list\n",
    "def find_n_largest(lst, n):\n",
    "    if len(lst) < n:\n",
    "        return \"List should have at least {} elements\".format(n)\n",
    "\n",
    "    # Use a set to store the N largest elements\n",
    "    n_largest_set = set()\n",
    "\n",
    "    for _ in range(n):\n",
    "        current_max = max(lst)\n",
    "        n_largest_set.add(current_max)\n",
    "        lst.remove(current_max)\n",
    "\n",
    "    return sorted(n_largest_set, reverse=True)\n",
    "\n",
    "# Get input from the user\n",
    "# Assuming the user enters space-separated numbers\n",
    "input_numbers = input(\"Enter space-separated numbers in the list: \")\n",
    "my_list = list(map(int, input_numbers.split()))\n",
    "\n",
    "# Get the value of N from the user\n",
    "n = int(input(\"Enter the value of N: \"))\n",
    "\n",
    "# Find and display the N largest elements\n",
    "result = find_n_largest(my_list, n)\n",
    "print(\"The {} largest elements in the list are: {}\".format(n, result))\n",
    "\n"
   ]
  },
  {
   "cell_type": "code",
   "execution_count": 33,
   "id": "cd1045df-1b2d-4f83-a5ca-a826670faaf7",
   "metadata": {},
   "outputs": [
    {
     "name": "stdin",
     "output_type": "stream",
     "text": [
      "Enter space-separated numbers in the list:  6\n"
     ]
    },
    {
     "name": "stdout",
     "output_type": "stream",
     "text": [
      "Even numbers in the list: [6]\n"
     ]
    }
   ],
   "source": [
    "# Function to print even numbers from a list\n",
    "def print_even_numbers(lst):\n",
    "    even_numbers = [num for num in lst if num % 2 == 0]\n",
    "    print(\"Even numbers in the list:\", even_numbers)\n",
    "\n",
    "# Get input from the user\n",
    "# Assuming the user enters space-separated numbers\n",
    "input_numbers = input(\"Enter space-separated numbers in the list: \")\n",
    "my_list = list(map(int, input_numbers.split()))\n",
    "\n",
    "# Print even numbers from the list\n",
    "print_even_numbers(my_list)"
   ]
  },
  {
   "cell_type": "code",
   "execution_count": 34,
   "id": "c003e5be-437c-4d50-8d26-c791e891e54b",
   "metadata": {},
   "outputs": [
    {
     "name": "stdin",
     "output_type": "stream",
     "text": [
      "Enter space-separated numbers in the list:  3\n"
     ]
    },
    {
     "name": "stdout",
     "output_type": "stream",
     "text": [
      "Odd numbers in the list: [3]\n"
     ]
    }
   ],
   "source": [
    "# Function to print odd numbers from a list\n",
    "def print_odd_numbers(lst):\n",
    "    odd_numbers = [num for num in lst if num % 2 != 0]\n",
    "    print(\"Odd numbers in the list:\", odd_numbers)\n",
    "\n",
    "# Get input from the user\n",
    "# Assuming the user enters space-separated numbers\n",
    "input_numbers = input(\"Enter space-separated numbers in the list: \")\n",
    "my_list = list(map(int, input_numbers.split()))\n",
    "\n",
    "# Print odd numbers from the list\n",
    "print_odd_numbers(my_list)"
   ]
  },
  {
   "cell_type": "code",
   "execution_count": 35,
   "id": "39b06e25-13c5-4656-a2f5-c3ddb6833ac6",
   "metadata": {},
   "outputs": [
    {
     "name": "stdin",
     "output_type": "stream",
     "text": [
      "Enter the start of the range:  5\n",
      "Enter the end of the range:  6\n"
     ]
    },
    {
     "name": "stdout",
     "output_type": "stream",
     "text": [
      "Even numbers in the range 5 to 6: [6]\n"
     ]
    }
   ],
   "source": [
    "#Python program to print all even numbers in a range\n",
    "def print_even_numbers_in_range(start, end):\n",
    "    even_numbers = [num for num in range(start, end + 1) if num % 2 == 0]\n",
    "    print(\"Even numbers in the range {} to {}: {}\".format(start, end, even_numbers))\n",
    "\n",
    "# Get input from the user\n",
    "start_range = int(input(\"Enter the start of the range: \"))\n",
    "end_range = int(input(\"Enter the end of the range: \"))\n",
    "\n",
    "# Print even numbers in the given range\n",
    "print_even_numbers_in_range(start_range, end_range)\n",
    "\n"
   ]
  },
  {
   "cell_type": "code",
   "execution_count": 1,
   "id": "a95aa415-7113-4ace-8596-dba513ee1206",
   "metadata": {},
   "outputs": [
    {
     "name": "stdout",
     "output_type": "stream",
     "text": [
      "1\n",
      "3\n",
      "5\n",
      "7\n",
      "9\n"
     ]
    }
   ],
   "source": [
    "#Python program to print all odd numbers in a range\n",
    "def print_odd_numbers(start, end):\n",
    "    for number in range(start, end + 1):\n",
    "        if number % 2 != 0:\n",
    "            print(number)\n",
    "\n",
    "# Example: Print odd numbers from 1 to 10\n",
    "print_odd_numbers(1, 10)"
   ]
  },
  {
   "cell_type": "code",
   "execution_count": 2,
   "id": "d4f4052f-b11a-4532-ba0d-2d6c2e810853",
   "metadata": {},
   "outputs": [
    {
     "name": "stdout",
     "output_type": "stream",
     "text": [
      "3\n",
      "8\n",
      "7\n",
      "4\n"
     ]
    }
   ],
   "source": [
    "#Python program to print positive numbers in a list\n",
    "def print_positive_numbers(numbers):\n",
    "    for number in numbers:\n",
    "        if number > 0:\n",
    "            print(number)\n",
    "\n",
    "# Example: Print positive numbers in a list\n",
    "my_list = [3, -5, 8, -2, 7, -1, 0, 4]\n",
    "print_positive_numbers(my_list)\n"
   ]
  },
  {
   "cell_type": "code",
   "execution_count": 3,
   "id": "297de146-bc14-4add-853e-6e5ef3de4de8",
   "metadata": {},
   "outputs": [
    {
     "name": "stdout",
     "output_type": "stream",
     "text": [
      "-5\n",
      "-2\n",
      "-1\n"
     ]
    }
   ],
   "source": [
    "#Python program to print negative numbers in a list\n",
    "def print_negative_numbers(numbers):\n",
    "    for number in numbers:\n",
    "        if number < 0:\n",
    "            print(number)\n",
    "\n",
    "# Example: Print negative numbers in a list\n",
    "my_list = [3, -5, 8, -2, 7, -1, 0, 4]\n",
    "print_negative_numbers(my_list)\n"
   ]
  },
  {
   "cell_type": "code",
   "execution_count": 4,
   "id": "adeb19f7-722a-4ea4-b702-242988551b73",
   "metadata": {},
   "outputs": [
    {
     "name": "stdout",
     "output_type": "stream",
     "text": [
      "1\n",
      "2\n",
      "3\n",
      "4\n",
      "5\n",
      "6\n",
      "7\n",
      "8\n",
      "9\n",
      "10\n"
     ]
    }
   ],
   "source": [
    "#Python program to print all positive numbers in a range\n",
    "def print_positive_numbers_in_range(start, end):\n",
    "    for number in range(start, end + 1):\n",
    "        if number > 0:\n",
    "            print(number)\n",
    "\n",
    "# Example: Print positive numbers from 1 to 10\n",
    "print_positive_numbers_in_range(1, 10)\n",
    "\n"
   ]
  },
  {
   "cell_type": "code",
   "execution_count": 5,
   "id": "2ce147b1-808b-4c29-baa1-aa1857a8d7d3",
   "metadata": {},
   "outputs": [
    {
     "name": "stdout",
     "output_type": "stream",
     "text": [
      "-5\n",
      "-4\n",
      "-3\n",
      "-2\n",
      "-1\n"
     ]
    }
   ],
   "source": [
    "#Python program to print all negative numbers in a range\n",
    "def print_negative_numbers_in_range(start, end):\n",
    "    for number in range(start, end + 1):\n",
    "        if number < 0:\n",
    "            print(number)\n",
    "\n",
    "# Example: Print negative numbers from -5 to 5\n",
    "print_negative_numbers_in_range(-5, 5)\n"
   ]
  },
  {
   "cell_type": "code",
   "execution_count": 6,
   "id": "84c5bffa-5dd8-4ff1-903f-37225cd9fa0e",
   "metadata": {},
   "outputs": [
    {
     "name": "stdout",
     "output_type": "stream",
     "text": [
      "[1, 3, 5]\n"
     ]
    }
   ],
   "source": [
    "#Remove multiple elements from a list in Python\n",
    "def remove_elements_by_index(my_list, indices_to_remove):\n",
    "    indices_to_remove.sort(reverse=True)  # Sort in reverse order to avoid index shifting\n",
    "    for index in indices_to_remove:\n",
    "        if 0 <= index < len(my_list):\n",
    "            del my_list[index]\n",
    "\n",
    "# Example: Remove elements at indices 1 and 3\n",
    "my_list = [1, 2, 3, 4, 5]\n",
    "remove_elements_by_index(my_list, [1, 3])\n",
    "print(my_list)\n",
    "\n"
   ]
  },
  {
   "cell_type": "code",
   "execution_count": 7,
   "id": "943a1683-e429-47e8-b385-9171f6322414",
   "metadata": {},
   "outputs": [
    {
     "name": "stdout",
     "output_type": "stream",
     "text": [
      "Original List: [[1, 2, 3], [], [4, 5], [], [], [6, 7, 8], []]\n",
      "List after removing empty lists: [[1, 2, 3], [4, 5], [6, 7, 8]]\n"
     ]
    }
   ],
   "source": [
    "#Python – Remove empty List from List\n",
    "# Original list of lists\n",
    "list_of_lists = [[1, 2, 3], [], [4, 5], [], [], [6, 7, 8], []]\n",
    "\n",
    "# Remove empty lists using list comprehension\n",
    "filtered_list = [sublist for sublist in list_of_lists if sublist]\n",
    "\n",
    "print(\"Original List:\", list_of_lists)\n",
    "print(\"List after removing empty lists:\", filtered_list)\n",
    "\n"
   ]
  },
  {
   "cell_type": "code",
   "execution_count": 8,
   "id": "5c524670-4b7e-438b-bd3a-6ad71728bc0e",
   "metadata": {},
   "outputs": [
    {
     "name": "stdout",
     "output_type": "stream",
     "text": [
      "Original List: [1, 2, 3, 4, 5]\n",
      "Copied List: [1, 2, 3, 4, 5]\n"
     ]
    }
   ],
   "source": [
    "#Python | Cloning or Copying a list\n",
    "original_list = [1, 2, 3, 4, 5]\n",
    "copied_list = original_list.copy()\n",
    "\n",
    "# or equivalently\n",
    "# copied_list = list(original_list)\n",
    "\n",
    "print(\"Original List:\", original_list)\n",
    "print(\"Copied List:\", copied_list)\n",
    "\n"
   ]
  },
  {
   "cell_type": "code",
   "execution_count": 9,
   "id": "dedcad46-84f6-4439-ad44-e5f4257b7240",
   "metadata": {},
   "outputs": [
    {
     "name": "stdout",
     "output_type": "stream",
     "text": [
      "Count of 1: 4\n"
     ]
    }
   ],
   "source": [
    "#Python | Count occurrences of an element in a list\n",
    "my_list = [1, 2, 3, 4, 1, 2, 1, 1, 5]\n",
    "\n",
    "# Count occurrences of the element 1\n",
    "count_of_1 = my_list.count(1)\n",
    "\n",
    "print(\"Count of 1:\", count_of_1)\n",
    "\n"
   ]
  },
  {
   "cell_type": "code",
   "execution_count": 10,
   "id": "4a7384e7-e31d-4170-b9fb-eadd1d2ffb8c",
   "metadata": {},
   "outputs": [
    {
     "name": "stdout",
     "output_type": "stream",
     "text": [
      "Original List: [(1, 2), (), (3, 4), (), (5, 6), (), ()]\n",
      "List after removing empty tuples: [(1, 2), (3, 4), (5, 6)]\n"
     ]
    }
   ],
   "source": [
    "#Python | Remove empty tuples from a list\n",
    "# Original list with tuples\n",
    "list_of_tuples = [(1, 2), (), (3, 4), (), (5, 6), (), ()]\n",
    "\n",
    "# Remove empty tuples using list comprehension\n",
    "filtered_list = [tup for tup in list_of_tuples if tup]\n",
    "\n",
    "print(\"Original List:\", list_of_tuples)\n",
    "print(\"List after removing empty tuples:\", filtered_list)\n",
    "\n"
   ]
  },
  {
   "cell_type": "code",
   "execution_count": 11,
   "id": "9dfa5554-cac7-4204-908d-7f1583bf3c87",
   "metadata": {},
   "outputs": [
    {
     "name": "stdout",
     "output_type": "stream",
     "text": [
      "Duplicates: [1, 2, 3]\n"
     ]
    }
   ],
   "source": [
    "#Python | Program to print duplicates from a list of integers\n",
    "def find_duplicates(nums):\n",
    "    num_count = {}\n",
    "    duplicates = set()\n",
    "\n",
    "    for num in nums:\n",
    "        if num in num_count:\n",
    "            duplicates.add(num)\n",
    "        else:\n",
    "            num_count[num] = 1\n",
    "\n",
    "    print(\"Duplicates:\", list(duplicates))\n",
    "\n",
    "# Example usage\n",
    "numbers = [1, 2, 3, 4, 2, 5, 6, 3, 7, 8, 1, 9]\n",
    "find_duplicates(numbers)\n",
    "\n",
    "\n"
   ]
  },
  {
   "cell_type": "code",
   "execution_count": 12,
   "id": "8fa486d0-ce90-4cdd-83c7-bb990cf73f9f",
   "metadata": {},
   "outputs": [
    {
     "name": "stdout",
     "output_type": "stream",
     "text": [
      "Original List: [1, 2, 3, 4, 5]\n",
      "Cumulative Sum List: [1, 3, 6, 10, 15]\n"
     ]
    }
   ],
   "source": [
    "#Python program to find Cumulative sum of a list\n",
    "def cumulative_sum(lst):\n",
    "    result = []\n",
    "    total = 0\n",
    "    for num in lst:\n",
    "        total += num\n",
    "        result.append(total)\n",
    "    return result\n",
    "\n",
    "# Example usage\n",
    "numbers = [1, 2, 3, 4, 5]\n",
    "cumulative_sum_list = cumulative_sum(numbers)\n",
    "\n",
    "print(\"Original List:\", numbers)\n",
    "print(\"Cumulative Sum List:\", cumulative_sum_list)\n",
    "\n"
   ]
  },
  {
   "cell_type": "code",
   "execution_count": 13,
   "id": "6913ef28-ad69-4006-ac89-976b8c4c4a1e",
   "metadata": {},
   "outputs": [
    {
     "name": "stdout",
     "output_type": "stream",
     "text": [
      "Original List: [123, 45, 678, 9]\n",
      "Sum of Digits List: [6, 9, 21, 9]\n"
     ]
    }
   ],
   "source": [
    "#Python | Sum of number digits in List\n",
    "def sum_of_digits(num):\n",
    "    # Calculate the sum of digits of a number\n",
    "    return sum(int(digit) for digit in str(abs(num)))\n",
    "\n",
    "def sum_of_digits_in_list(numbers):\n",
    "    # Calculate the sum of digits for each number in the list\n",
    "    return [sum_of_digits(num) for num in numbers]\n",
    "\n",
    "# Example usage\n",
    "numbers = [123, 45, 678, 9]\n",
    "sum_of_digits_result = sum_of_digits_in_list(numbers)\n",
    "\n",
    "print(\"Original List:\", numbers)\n",
    "print(\"Sum of Digits List:\", sum_of_digits_result)\n",
    "\n"
   ]
  },
  {
   "cell_type": "code",
   "execution_count": 14,
   "id": "31c7b3c7-bcbb-43c1-adc8-fe82f95929b6",
   "metadata": {},
   "outputs": [
    {
     "name": "stdout",
     "output_type": "stream",
     "text": [
      "Original List: [1, 2, 3, 4, 5, 6, 7, 8, 9, 10]\n",
      "List of Chunks (size 3): [[1, 2, 3], [4, 5, 6], [7, 8, 9], [10]]\n"
     ]
    }
   ],
   "source": [
    "#Break a list into chunks of size N in Python\n",
    "def chunks(lst, N):\n",
    "    for i in range(0, len(lst), N):\n",
    "        yield lst[i:i+N]\n",
    "\n",
    "# Example usage\n",
    "my_list = [1, 2, 3, 4, 5, 6, 7, 8, 9, 10]\n",
    "chunk_size = 3\n",
    "\n",
    "result = list(chunks(my_list, chunk_size))\n",
    "\n",
    "print(f\"Original List: {my_list}\")\n",
    "print(f\"List of Chunks (size {chunk_size}): {result}\")\n"
   ]
  },
  {
   "cell_type": "code",
   "execution_count": 15,
   "id": "4c5d00c0-988d-4eb0-add2-523f3b6c0e26",
   "metadata": {},
   "outputs": [
    {
     "name": "stdout",
     "output_type": "stream",
     "text": [
      "Original First List: [3, 1, 4, 2]\n",
      "Original Second List: ['C', 'A', 'D', 'B']\n",
      "Sorted First List using Second List: [1, 2, 3, 4]\n"
     ]
    }
   ],
   "source": [
    "#Python | Sort the values of first list using second list\n",
    "# Two lists\n",
    "first_list = [3, 1, 4, 2]\n",
    "second_list = ['C', 'A', 'D', 'B']\n",
    "\n",
    "# Sort the first list using the second list\n",
    "sorted_data = [x for _, x in sorted(zip(second_list, first_list))]\n",
    "\n",
    "print(\"Original First List:\", first_list)\n",
    "print(\"Original Second List:\", second_list)\n",
    "print(\"Sorted First List using Second List:\", sorted_data)\n",
    "\n"
   ]
  },
  {
   "cell_type": "code",
   "execution_count": 16,
   "id": "606ccddd-a9fc-40b8-b999-a17b0baaff4b",
   "metadata": {},
   "outputs": [
    {
     "name": "stdout",
     "output_type": "stream",
     "text": [
      "Matrix 1:\n",
      "[1, 2, 3]\n",
      "[4, 5, 6]\n",
      "[7, 8, 9]\n",
      "\n",
      "Matrix 2:\n",
      "[9, 8, 7]\n",
      "[6, 5, 4]\n",
      "[3, 2, 1]\n",
      "\n",
      "Sum of Matrices:\n",
      "[10, 10, 10]\n",
      "[10, 10, 10]\n",
      "[10, 10, 10]\n"
     ]
    }
   ],
   "source": [
    "#Python program to add two Matrices\n",
    "def add_matrices(matrix1, matrix2):\n",
    "    # Check if the matrices have the same dimensions\n",
    "    if len(matrix1) != len(matrix2) or len(matrix1[0]) != len(matrix2[0]):\n",
    "        raise ValueError(\"Matrices must have the same dimensions for addition\")\n",
    "\n",
    "    # Initialize an empty result matrix with the same dimensions\n",
    "    result_matrix = [[0 for _ in range(len(matrix1[0]))] for _ in range(len(matrix1))]\n",
    "\n",
    "    # Add corresponding elements of the matrices\n",
    "    for i in range(len(matrix1)):\n",
    "        for j in range(len(matrix1[0])):\n",
    "            result_matrix[i][j] = matrix1[i][j] + matrix2[i][j]\n",
    "\n",
    "    return result_matrix\n",
    "\n",
    "# Example matrices\n",
    "matrix1 = [\n",
    "    [1, 2, 3],\n",
    "    [4, 5, 6],\n",
    "    [7, 8, 9]\n",
    "]\n",
    "\n",
    "matrix2 = [\n",
    "    [9, 8, 7],\n",
    "    [6, 5, 4],\n",
    "    [3, 2, 1]\n",
    "]\n",
    "\n",
    "# Add the matrices\n",
    "result = add_matrices(matrix1, matrix2)\n",
    "\n",
    "# Display the result\n",
    "print(\"Matrix 1:\")\n",
    "for row in matrix1:\n",
    "    print(row)\n",
    "\n",
    "print(\"\\nMatrix 2:\")\n",
    "for row in matrix2:\n",
    "    print(row)\n",
    "\n",
    "print(\"\\nSum of Matrices:\")\n",
    "for row in result:\n",
    "    print(row)\n",
    "\n"
   ]
  },
  {
   "cell_type": "code",
   "execution_count": 17,
   "id": "ad6f951b-c095-48d6-b47a-7369c5568a2a",
   "metadata": {},
   "outputs": [
    {
     "name": "stdout",
     "output_type": "stream",
     "text": [
      "Matrix 1:\n",
      "[1, 2, 3]\n",
      "[4, 5, 6]\n",
      "[7, 8, 9]\n",
      "\n",
      "Matrix 2:\n",
      "[9, 8, 7]\n",
      "[6, 5, 4]\n",
      "[3, 2, 1]\n",
      "\n",
      "Product of Matrices:\n",
      "[30, 24, 18]\n",
      "[84, 69, 54]\n",
      "[138, 114, 90]\n"
     ]
    }
   ],
   "source": [
    "#Python program to multiply two matrices\n",
    "def multiply_matrices(matrix1, matrix2):\n",
    "    # Check if the matrices can be multiplied\n",
    "    if len(matrix1[0]) != len(matrix2):\n",
    "        raise ValueError(\"Number of columns in the first matrix must be equal to the number of rows in the second matrix for multiplication\")\n",
    "\n",
    "    # Initialize an empty result matrix\n",
    "    result_matrix = [[0 for _ in range(len(matrix2[0]))] for _ in range(len(matrix1))]\n",
    "\n",
    "    # Perform matrix multiplication\n",
    "    for i in range(len(matrix1)):\n",
    "        for j in range(len(matrix2[0])):\n",
    "            for k in range(len(matrix2)):\n",
    "                result_matrix[i][j] += matrix1[i][k] * matrix2[k][j]\n",
    "\n",
    "    return result_matrix\n",
    "\n",
    "# Example matrices\n",
    "matrix1 = [\n",
    "    [1, 2, 3],\n",
    "    [4, 5, 6],\n",
    "    [7, 8, 9]\n",
    "]\n",
    "\n",
    "matrix2 = [\n",
    "    [9, 8, 7],\n",
    "    [6, 5, 4],\n",
    "    [3, 2, 1]\n",
    "]\n",
    "\n",
    "# Multiply the matrices\n",
    "result = multiply_matrices(matrix1, matrix2)\n",
    "\n",
    "# Display the result\n",
    "print(\"Matrix 1:\")\n",
    "for row in matrix1:\n",
    "    print(row)\n",
    "\n",
    "print(\"\\nMatrix 2:\")\n",
    "for row in matrix2:\n",
    "    print(row)\n",
    "\n",
    "print(\"\\nProduct of Matrices:\")\n",
    "for row in result:\n",
    "    print(row)\n"
   ]
  },
  {
   "cell_type": "code",
   "execution_count": 20,
   "id": "d42719cc-c2cd-40d9-93a7-eb4ed6c7b828",
   "metadata": {},
   "outputs": [
    {
     "name": "stdout",
     "output_type": "stream",
     "text": [
      "Matrix 1:\n",
      "[1, 2, 3]\n",
      "[4, 5, 6]\n",
      "[7, 8, 9]\n",
      "\n",
      "Matrix 2:\n",
      "[9, 8, 7]\n",
      "[6, 5, 4]\n",
      "[3, 2, 1]\n",
      "\n",
      "Matrix Product:\n",
      "[30, 24, 18]\n",
      "[84, 69, 54]\n",
      "[138, 114, 90]\n"
     ]
    }
   ],
   "source": [
    "#Python program for Matrix Product\n",
    "def matrix_product(matrix1, matrix2):\n",
    "    # Check if the matrices can be multiplied\n",
    "    if len(matrix1[0]) != len(matrix2):\n",
    "        raise ValueError(\"Number of columns in the first matrix must be equal to the number of rows in the second matrix for multiplication\")\n",
    "\n",
    "    # Initialize an empty result matrix\n",
    "    result_matrix = [[0 for _ in range(len(matrix2[0]))] for _ in range(len(matrix1))]\n",
    "\n",
    "    # Perform matrix multiplication\n",
    "    for i in range(len(matrix1)):\n",
    "        for j in range(len(matrix2[0])):\n",
    "            for k in range(len(matrix2)):\n",
    "                result_matrix[i][j] += matrix1[i][k] * matrix2[k][j]\n",
    "\n",
    "    return result_matrix\n",
    "\n",
    "# Example matrices\n",
    "matrix1 = [\n",
    "    [1, 2, 3],\n",
    "    [4, 5, 6],\n",
    "    [7, 8, 9]\n",
    "]\n",
    "\n",
    "matrix2 = [\n",
    "    [9, 8, 7],\n",
    "    [6, 5, 4],\n",
    "    [3, 2, 1]\n",
    "]\n",
    "\n",
    "# Multiply the matrices\n",
    "result = matrix_product(matrix1, matrix2)\n",
    "\n",
    "# Display the result\n",
    "print(\"Matrix 1:\")\n",
    "for row in matrix1:\n",
    "    print(row)\n",
    "\n",
    "print(\"\\nMatrix 2:\")\n",
    "for row in matrix2:\n",
    "    print(row)\n",
    "\n",
    "print(\"\\nMatrix Product:\")\n",
    "for row in result:\n",
    "    print(row)\n"
   ]
  },
  {
   "cell_type": "code",
   "execution_count": 21,
   "id": "725455b8-cd81-494f-9a66-ab7f4b66a1d5",
   "metadata": {},
   "outputs": [
    {
     "name": "stdout",
     "output_type": "stream",
     "text": [
      "Matrix 1:\n",
      "[1, 2, 3]\n",
      "[4, 5, 6]\n",
      "[7, 8, 9]\n",
      "\n",
      "Matrix 2:\n",
      "[9, 8, 7]\n",
      "[6, 5, 4]\n",
      "[3, 2, 1]\n",
      "\n",
      "Sum of Matrices:\n",
      "[10, 10, 10]\n",
      "[10, 10, 10]\n",
      "[10, 10, 10]\n",
      "\n",
      "Difference of Matrices:\n",
      "[-8, -6, -4]\n",
      "[-2, 0, 2]\n",
      "[4, 6, 8]\n"
     ]
    }
   ],
   "source": [
    "#Adding and Subtracting Matrices in Python\n",
    "def add_matrices(matrix1, matrix2):\n",
    "    # Check if the matrices have the same dimensions\n",
    "    if len(matrix1) != len(matrix2) or len(matrix1[0]) != len(matrix2[0]):\n",
    "        raise ValueError(\"Matrices must have the same dimensions for addition\")\n",
    "\n",
    "    # Initialize an empty result matrix with the same dimensions\n",
    "    result_matrix = [[0 for _ in range(len(matrix1[0]))] for _ in range(len(matrix1))]\n",
    "\n",
    "    # Add corresponding elements of the matrices\n",
    "    for i in range(len(matrix1)):\n",
    "        for j in range(len(matrix1[0])):\n",
    "            result_matrix[i][j] = matrix1[i][j] + matrix2[i][j]\n",
    "\n",
    "    return result_matrix\n",
    "\n",
    "def subtract_matrices(matrix1, matrix2):\n",
    "    # Check if the matrices have the same dimensions\n",
    "    if len(matrix1) != len(matrix2) or len(matrix1[0]) != len(matrix2[0]):\n",
    "        raise ValueError(\"Matrices must have the same dimensions for subtraction\")\n",
    "\n",
    "    # Initialize an empty result matrix with the same dimensions\n",
    "    result_matrix = [[0 for _ in range(len(matrix1[0]))] for _ in range(len(matrix1))]\n",
    "\n",
    "    # Subtract corresponding elements of the matrices\n",
    "    for i in range(len(matrix1)):\n",
    "        for j in range(len(matrix1[0])):\n",
    "            result_matrix[i][j] = matrix1[i][j] - matrix2[i][j]\n",
    "\n",
    "    return result_matrix\n",
    "\n",
    "# Example matrices\n",
    "matrix1 = [\n",
    "    [1, 2, 3],\n",
    "    [4, 5, 6],\n",
    "    [7, 8, 9]\n",
    "]\n",
    "\n",
    "matrix2 = [\n",
    "    [9, 8, 7],\n",
    "    [6, 5, 4],\n",
    "    [3, 2, 1]\n",
    "]\n",
    "\n",
    "# Add the matrices\n",
    "sum_result = add_matrices(matrix1, matrix2)\n",
    "\n",
    "# Subtract the matrices\n",
    "difference_result = subtract_matrices(matrix1, matrix2)\n",
    "\n",
    "# Display the results\n",
    "print(\"Matrix 1:\")\n",
    "for row in matrix1:\n",
    "    print(row)\n",
    "\n",
    "print(\"\\nMatrix 2:\")\n",
    "for row in matrix2:\n",
    "    print(row)\n",
    "\n",
    "print(\"\\nSum of Matrices:\")\n",
    "for row in sum_result:\n",
    "    print(row)\n",
    "\n",
    "print(\"\\nDifference of Matrices:\")\n",
    "for row in difference_result:\n",
    "    print(row)\n",
    "\n"
   ]
  },
  {
   "cell_type": "code",
   "execution_count": 22,
   "id": "0e080f28-c262-4df1-b206-9f6288f6a4da",
   "metadata": {},
   "outputs": [
    {
     "name": "stdout",
     "output_type": "stream",
     "text": [
      "Original Matrix:\n",
      "[1, 2, 3]\n",
      "[4, 5, 6]\n",
      "[7, 8, 9]\n",
      "\n",
      "Transposed Matrix:\n",
      "[1, 4, 7]\n",
      "[2, 5, 8]\n",
      "[3, 6, 9]\n"
     ]
    }
   ],
   "source": [
    "#Transpose a matrix in Single line in Python\n",
    "# Original matrix\n",
    "matrix = [\n",
    "    [1, 2, 3],\n",
    "    [4, 5, 6],\n",
    "    [7, 8, 9]\n",
    "]\n",
    "\n",
    "# Transpose the matrix in a single line using list comprehension and zip\n",
    "transposed_matrix = [list(row) for row in zip(*matrix)]\n",
    "\n",
    "# Display the original and transposed matrices\n",
    "print(\"Original Matrix:\")\n",
    "for row in matrix:\n",
    "    print(row)\n",
    "\n",
    "print(\"\\nTransposed Matrix:\")\n",
    "for row in transposed_matrix:\n",
    "    print(row)\n",
    "\n"
   ]
  },
  {
   "cell_type": "code",
   "execution_count": 23,
   "id": "02b1325f-7e42-4839-8416-a1c5f72912da",
   "metadata": {},
   "outputs": [
    {
     "name": "stdout",
     "output_type": "stream",
     "text": [
      "3 x 3 Matrix:\n",
      "[0, 1, 2]\n",
      "[3, 4, 5]\n",
      "[6, 7, 8]\n"
     ]
    }
   ],
   "source": [
    "#Python | Matrix creation of n*n\n",
    "def create_matrix(n):\n",
    "    matrix = [[i + j for j in range(n)] for i in range(0, n*n, n)]\n",
    "    return matrix\n",
    "\n",
    "# Example usage\n",
    "n = 3\n",
    "result_matrix = create_matrix(n)\n",
    "\n",
    "# Display the result\n",
    "print(f\"{n} x {n} Matrix:\")\n",
    "for row in result_matrix:\n",
    "    print(row)\n",
    "\n"
   ]
  },
  {
   "cell_type": "code",
   "execution_count": 24,
   "id": "3e5d2e32-3e77-4bf5-865e-81da82731b6b",
   "metadata": {},
   "outputs": [
    {
     "name": "stdout",
     "output_type": "stream",
     "text": [
      "Original Matrix:\n",
      "[1, 2, 3]\n",
      "[4, 5, 6]\n",
      "[7, 8, 9]\n",
      "\n",
      "Kth Column (K=1): [2, 5, 8]\n"
     ]
    }
   ],
   "source": [
    "#Python | Get Kth Column of Matrix\n",
    "def get_kth_column(matrix, k):\n",
    "    # Check if the matrix is not empty and k is a valid column index\n",
    "    if not matrix or k < 0 or k >= len(matrix[0]):\n",
    "        raise ValueError(\"Invalid matrix or column index\")\n",
    "\n",
    "    # Use list comprehension to extract the Kth column\n",
    "    column = [row[k] for row in matrix]\n",
    "    return column\n",
    "\n",
    "# Example matrix\n",
    "matrix = [\n",
    "    [1, 2, 3],\n",
    "    [4, 5, 6],\n",
    "    [7, 8, 9]\n",
    "]\n",
    "\n",
    "# Get the Kth column (e.g., K=1)\n",
    "k = 1\n",
    "result_column = get_kth_column(matrix, k)\n",
    "\n",
    "# Display the result\n",
    "print(f\"Original Matrix:\")\n",
    "for row in matrix:\n",
    "    print(row)\n",
    "\n",
    "print(f\"\\nKth Column (K={k}): {result_column}\")\n",
    "\n"
   ]
  },
  {
   "cell_type": "code",
   "execution_count": 25,
   "id": "7ddb6588-deea-4c7c-93fe-25e078d86a4a",
   "metadata": {},
   "outputs": [
    {
     "name": "stdout",
     "output_type": "stream",
     "text": [
      "Matrix 1:\n",
      "[1, 2, 3]\n",
      "[4, 5, 6]\n",
      "\n",
      "Matrix 2:\n",
      "[7, 8, 9]\n",
      "[10, 11, 12]\n",
      "\n",
      "Vertically Concatenated Matrix:\n",
      "[1, 2, 3]\n",
      "[4, 5, 6]\n",
      "[7, 8, 9]\n",
      "[10, 11, 12]\n"
     ]
    }
   ],
   "source": [
    "#Python – Vertical Concatenation in Matrix\n",
    "def vertical_concatenation(matrix1, matrix2):\n",
    "    # Check if the matrices have the same number of columns\n",
    "    if len(matrix1[0]) != len(matrix2[0]):\n",
    "        raise ValueError(\"Matrices must have the same number of columns for vertical concatenation\")\n",
    "\n",
    "    # Use list concatenation to vertically concatenate the matrices\n",
    "    result_matrix = matrix1 + matrix2\n",
    "    return result_matrix\n",
    "\n",
    "# Example matrices\n",
    "matrix1 = [\n",
    "    [1, 2, 3],\n",
    "    [4, 5, 6]\n",
    "]\n",
    "\n",
    "matrix2 = [\n",
    "    [7, 8, 9],\n",
    "    [10, 11, 12]\n",
    "]\n",
    "\n",
    "# Perform vertical concatenation\n",
    "result = vertical_concatenation(matrix1, matrix2)\n",
    "\n",
    "# Display the result\n",
    "print(\"Matrix 1:\")\n",
    "for row in matrix1:\n",
    "    print(row)\n",
    "\n",
    "print(\"\\nMatrix 2:\")\n",
    "for row in matrix2:\n",
    "    print(row)\n",
    "\n",
    "print(\"\\nVertically Concatenated Matrix:\")\n",
    "for row in result:\n",
    "    print(row)\n",
    "\n",
    "\n"
   ]
  },
  {
   "cell_type": "code",
   "execution_count": 26,
   "id": "871a0f44-9736-4c7f-ac4f-68650a798cf6",
   "metadata": {},
   "outputs": [
    {
     "name": "stdout",
     "output_type": "stream",
     "text": [
      "A man a plan a canal Panama is a palindrome.\n"
     ]
    }
   ],
   "source": [
    "#Python program to check if a string is palindrome or not\n",
    "def is_palindrome(s):\n",
    "    # Convert the string to lowercase and remove spaces\n",
    "    s = s.lower().replace(\" \", \"\")\n",
    "\n",
    "    # Check if the reversed string is equal to the original string\n",
    "    return s == s[::-1]\n",
    "\n",
    "# Example usage\n",
    "input_string = \"A man a plan a canal Panama\"\n",
    "if is_palindrome(input_string):\n",
    "    print(f\"{input_string} is a palindrome.\")\n",
    "else:\n",
    "    print(f\"{input_string} is not a palindrome.\")\n",
    "\n",
    "\n"
   ]
  },
  {
   "cell_type": "code",
   "execution_count": 27,
   "id": "9cb538b8-84d8-4eee-806c-af21684624de",
   "metadata": {},
   "outputs": [
    {
     "name": "stdout",
     "output_type": "stream",
     "text": [
      "Able , was I saw eLba is not symmetrical.\n",
      "Able , was I saw eLba is not a palindrome.\n"
     ]
    }
   ],
   "source": [
    "#Python program to check whether the string is Symmetrical or Palindrome\n",
    "def is_symmetrical(s):\n",
    "    # Convert the string to lowercase and remove spaces\n",
    "    s = s.lower().replace(\" \", \"\")\n",
    "\n",
    "    # Check if the string is symmetrical\n",
    "    return s == s[::-1]\n",
    "\n",
    "def is_palindrome(s):\n",
    "    # Convert the string to lowercase and remove spaces\n",
    "    s = s.lower().replace(\" \", \"\")\n",
    "\n",
    "    # Check if the reversed string is equal to the original string\n",
    "    return s == s[::-1]\n",
    "\n",
    "# Example usage\n",
    "input_string = \"Able , was I saw eLba\"\n",
    "if is_symmetrical(input_string):\n",
    "    print(f\"{input_string} is symmetrical.\")\n",
    "else:\n",
    "    print(f\"{input_string} is not symmetrical.\")\n",
    "\n",
    "if is_palindrome(input_string):\n",
    "    print(f\"{input_string} is a palindrome.\")\n",
    "else:\n",
    "    print(f\"{input_string} is not a palindrome.\")\n",
    "\n"
   ]
  },
  {
   "cell_type": "code",
   "execution_count": 28,
   "id": "edbad21f-4c99-4d11-bb4c-ee32d98664b9",
   "metadata": {},
   "outputs": [
    {
     "name": "stdout",
     "output_type": "stream",
     "text": [
      "Original String: Hello World, how are you?\n",
      "Reversed Words: you? are how World, Hello\n"
     ]
    }
   ],
   "source": [
    "#Reverse words in a given String in Python\n",
    "def reverse_words(input_string):\n",
    "    # Split the string into words\n",
    "    words = input_string.split()\n",
    "\n",
    "    # Reverse the order of words\n",
    "    reversed_words = words[::-1]\n",
    "\n",
    "    # Join the reversed words into a new string\n",
    "    reversed_string = ' '.join(reversed_words)\n",
    "\n",
    "    return reversed_string\n",
    "\n",
    "# Example usage\n",
    "input_string = \"Hello World, how are you?\"\n",
    "result = reverse_words(input_string)\n",
    "\n",
    "print(f\"Original String: {input_string}\")\n",
    "print(f\"Reversed Words: {result}\")\n",
    "\n"
   ]
  },
  {
   "cell_type": "code",
   "execution_count": 29,
   "id": "aa1466b8-e6ee-40b2-a552-bce720038735",
   "metadata": {},
   "outputs": [
    {
     "name": "stdout",
     "output_type": "stream",
     "text": [
      "Original String: Hello, World!\n",
      "String after removing character at index 5: Hello World!\n"
     ]
    }
   ],
   "source": [
    "#Ways to remove i’th character from string in Python\n",
    "def remove_char_at_index(input_str, index):\n",
    "    return input_str[:index] + input_str[index+1:]\n",
    "\n",
    "# Example usage\n",
    "original_str = \"Hello, World!\"\n",
    "index_to_remove = 5\n",
    "result_str = remove_char_at_index(original_str, index_to_remove)\n",
    "\n",
    "print(f\"Original String: {original_str}\")\n",
    "print(f\"String after removing character at index {index_to_remove}: {result_str}\")\n",
    "\n"
   ]
  },
  {
   "cell_type": "code",
   "execution_count": 30,
   "id": "6d6b5e86-37d4-43b2-b2cb-c69eeba34051",
   "metadata": {},
   "outputs": [
    {
     "name": "stdout",
     "output_type": "stream",
     "text": [
      "The substring 'World' is present in the given string.\n"
     ]
    }
   ],
   "source": [
    "#Python | Check if a Substring is Present in a Given String\n",
    "def is_substring_present(main_string, substring):\n",
    "    return substring in main_string\n",
    "\n",
    "# Example usage\n",
    "main_string = \"Hello, World!\"\n",
    "substring_to_check = \"World\"\n",
    "\n",
    "if is_substring_present(main_string, substring_to_check):\n",
    "    print(f\"The substring '{substring_to_check}' is present in the given string.\")\n",
    "else:\n",
    "    print(f\"The substring '{substring_to_check}' is not present in the given string.\")\n",
    "\n"
   ]
  },
  {
   "cell_type": "code",
   "execution_count": 31,
   "id": "3bd02fb4-5b72-4e8d-97ba-fe2a50aa5124",
   "metadata": {},
   "outputs": [
    {
     "name": "stdout",
     "output_type": "stream",
     "text": [
      "Original String: Python is easy, Python is powerful, Python is fun.\n",
      "Word Frequencies:\n",
      "is: 3\n",
      "fun.: 1\n",
      "powerful,: 1\n",
      "easy,: 1\n",
      "Python: 3\n"
     ]
    }
   ],
   "source": [
    "#Python – Words Frequency in String Shorthands\n",
    "def word_frequency(input_string):\n",
    "    # Using dictionary comprehension and split() to count word frequencies\n",
    "    frequency_dict = {word: input_string.split().count(word) for word in set(input_string.split())}\n",
    "\n",
    "    return frequency_dict\n",
    "\n",
    "# Example usage\n",
    "input_string = \"Python is easy, Python is powerful, Python is fun.\"\n",
    "result = word_frequency(input_string)\n",
    "\n",
    "# Display the result\n",
    "print(f\"Original String: {input_string}\")\n",
    "print(\"Word Frequencies:\")\n",
    "for word, count in result.items():\n",
    "    print(f\"{word}: {count}\")\n",
    "\n"
   ]
  },
  {
   "cell_type": "code",
   "execution_count": 32,
   "id": "efa5da1e-02f0-4b16-860f-0b9af7877ea8",
   "metadata": {},
   "outputs": [
    {
     "name": "stdout",
     "output_type": "stream",
     "text": [
      "ExampleSnakeCaseString\n"
     ]
    }
   ],
   "source": [
    "#Python – Convert Snake case to Pascal case\n",
    "def snake_to_pascal(snake_case_str):\n",
    "    # Split the snake_case string into words\n",
    "    words = snake_case_str.split('_')\n",
    "\n",
    "    # Capitalize the first letter of each word and join them\n",
    "    pascal_case_str = ''.join(word.capitalize() for word in words)\n",
    "\n",
    "    return pascal_case_str\n",
    "\n",
    "# Example usage:\n",
    "snake_case_string = \"example_snake_case_string\"\n",
    "pascal_case_result = snake_to_pascal(snake_case_string)\n",
    "print(pascal_case_result)\n",
    "\n"
   ]
  },
  {
   "cell_type": "code",
   "execution_count": 33,
   "id": "c6f767d7-5dac-4a1a-8c07-6c55d713e415",
   "metadata": {},
   "outputs": [
    {
     "name": "stdout",
     "output_type": "stream",
     "text": [
      "Length using len(): 13\n"
     ]
    }
   ],
   "source": [
    "#Find length of a string in python (4 ways)\n",
    "my_string = \"Hello, World!\"\n",
    "length = len(my_string)\n",
    "print(\"Length using len():\", length)\n",
    "\n",
    "\n"
   ]
  },
  {
   "cell_type": "code",
   "execution_count": 34,
   "id": "e3e40191-4903-4a27-abc2-3e1abbd98234",
   "metadata": {},
   "outputs": [
    {
     "name": "stdout",
     "output_type": "stream",
     "text": [
      "Length using loop: 13\n"
     ]
    }
   ],
   "source": [
    "my_string = \"Hello, World!\"\n",
    "count = 0\n",
    "for char in my_string:\n",
    "    count += 1\n",
    "print(\"Length using loop:\", count)\n"
   ]
  },
  {
   "cell_type": "code",
   "execution_count": 35,
   "id": "3c29b422-e6c3-4b0e-88bb-7eef87b12808",
   "metadata": {},
   "outputs": [
    {
     "name": "stdout",
     "output_type": "stream",
     "text": [
      "Length using str.count(): 13\n"
     ]
    }
   ],
   "source": [
    "my_string = \"Hello, World!\"\n",
    "length = my_string.count('')\n",
    "print(\"Length using str.count():\", length - 1)\n"
   ]
  },
  {
   "cell_type": "code",
   "execution_count": 36,
   "id": "f4d31e48-6fdf-43b1-a9e8-444e4fd4b678",
   "metadata": {},
   "outputs": [
    {
     "name": "stdout",
     "output_type": "stream",
     "text": [
      "Length using while loop: 13\n"
     ]
    }
   ],
   "source": [
    "my_string = \"Hello, World!\"\n",
    "count = 0\n",
    "while my_string:\n",
    "    count += 1\n",
    "    my_string = my_string[1:]\n",
    "print(\"Length using while loop:\", count)\n"
   ]
  },
  {
   "cell_type": "code",
   "execution_count": 37,
   "id": "428ae024-52e5-4851-b21b-a34df72ed8a9",
   "metadata": {},
   "outputs": [
    {
     "name": "stdout",
     "output_type": "stream",
     "text": [
      "Even-length words in the string:\n",
      "Python\n",
      "is\n",
      "language\n",
      "with\n",
      "syntax\n"
     ]
    }
   ],
   "source": [
    "#Python program to print even length words in a string\n",
    "def print_even_length_words(input_string):\n",
    "    words = input_string.split()\n",
    "    \n",
    "    even_length_words = [word for word in words if len(word) % 2 == 0]\n",
    "\n",
    "    print(\"Even-length words in the string:\")\n",
    "    for word in even_length_words:\n",
    "        print(word)\n",
    "\n",
    "# Example usage:\n",
    "input_string = \"Python is a programming language with elegant syntax\"\n",
    "print_even_length_words(input_string)\n",
    "\n"
   ]
  },
  {
   "cell_type": "code",
   "execution_count": 39,
   "id": "493f7328-6efc-420a-9dc4-39fc1938381e",
   "metadata": {},
   "outputs": [
    {
     "name": "stdin",
     "output_type": "stream",
     "text": [
      "Enter a string:  a\n"
     ]
    },
    {
     "name": "stdout",
     "output_type": "stream",
     "text": [
      "The string does not contain all vowels.\n"
     ]
    }
   ],
   "source": [
    "#Python program to accept the strings which contains all vowels\n",
    "def contains_all_vowels(input_string):\n",
    "    # Convert the input string to lowercase for case-insensitive comparison\n",
    "    input_string_lower = input_string.lower()\n",
    "\n",
    "    # Check if all vowels are present in the input string\n",
    "    all_vowels = set(\"aeiou\")\n",
    "    if all(vowel in input_string_lower for vowel in all_vowels):\n",
    "        return True\n",
    "    else:\n",
    "        return False\n",
    "\n",
    "# Example usage:\n",
    "user_input = input(\"Enter a string: \")\n",
    "\n",
    "if contains_all_vowels(user_input):\n",
    "    print(\"The string contains all vowels.\")\n",
    "else:\n",
    "    print(\"The string does not contain all vowels.\")\n",
    "\n"
   ]
  },
  {
   "cell_type": "code",
   "execution_count": 40,
   "id": "8c2a91e1-48ac-451f-b425-6b19f8ecce50",
   "metadata": {},
   "outputs": [
    {
     "name": "stdout",
     "output_type": "stream",
     "text": [
      "Number of matching characters: 2\n"
     ]
    }
   ],
   "source": [
    "#Python | Count the Number of matching characters in a pair of string\n",
    "def count_matching_characters(string1, string2):\n",
    "    # Convert strings to sets to get unique characters\n",
    "    set1 = set(string1)\n",
    "    set2 = set(string2)\n",
    "\n",
    "    # Find the common characters using intersection\n",
    "    common_characters = set1.intersection(set2)\n",
    "\n",
    "    # Count the number of common characters\n",
    "    count = len(common_characters)\n",
    "\n",
    "    return count\n",
    "\n",
    "# Example usage:\n",
    "string1 = \"hello\"\n",
    "string2 = \"world\"\n",
    "\n",
    "result = count_matching_characters(string1, string2)\n",
    "print(f\"Number of matching characters: {result}\")\n",
    "\n"
   ]
  },
  {
   "cell_type": "code",
   "execution_count": 41,
   "id": "3dd46bab-2987-4251-aa17-9f44a213651b",
   "metadata": {},
   "outputs": [
    {
     "name": "stdout",
     "output_type": "stream",
     "text": [
      "String after removing duplicates: progamin\n"
     ]
    }
   ],
   "source": [
    "#\tRemove all duplicates from a given string in Python\n",
    "def remove_duplicates(input_string):\n",
    "    # Using a set to store unique characters\n",
    "    unique_characters = set()\n",
    "\n",
    "    # Filtering out duplicates and maintaining order\n",
    "    result_string = ''.join(char for char in input_string if char not in unique_characters and not unique_characters.add(char))\n",
    "\n",
    "    return result_string\n",
    "\n",
    "# Example usage:\n",
    "input_string = \"programming\"\n",
    "result = remove_duplicates(input_string)\n",
    "print(\"String after removing duplicates:\", result)\n",
    "\n"
   ]
  },
  {
   "cell_type": "code",
   "execution_count": 42,
   "id": "0da651a2-a88d-443c-860b-81459d041a6a",
   "metadata": {},
   "outputs": [
    {
     "name": "stdout",
     "output_type": "stream",
     "text": [
      "Least frequent character: p\n"
     ]
    }
   ],
   "source": [
    "#Python – Least Frequent Character in String\n",
    "def least_frequent_character(input_string):\n",
    "    # Create a dictionary to store character frequencies\n",
    "    char_frequency = {}\n",
    "\n",
    "    # Count the frequency of each character\n",
    "    for char in input_string:\n",
    "        if char in char_frequency:\n",
    "            char_frequency[char] += 1\n",
    "        else:\n",
    "            char_frequency[char] = 1\n",
    "\n",
    "    # Find the least frequent character\n",
    "    least_frequent_char = min(char_frequency, key=char_frequency.get)\n",
    "\n",
    "    return least_frequent_char\n",
    "\n",
    "# Example usage:\n",
    "input_string = \"programming\"\n",
    "result = least_frequent_character(input_string)\n",
    "print(\"Least frequent character:\", result)\n",
    "\n"
   ]
  },
  {
   "cell_type": "code",
   "execution_count": 43,
   "id": "231c51c2-3958-4d39-a8c4-376ea18381a5",
   "metadata": {},
   "outputs": [
    {
     "name": "stdout",
     "output_type": "stream",
     "text": [
      "Maximum frequency character: r\n"
     ]
    }
   ],
   "source": [
    "#\tPython | Maximum frequency character in String\n",
    "def max_frequency_character(input_string):\n",
    "    # Create a dictionary to store character frequencies\n",
    "    char_frequency = {}\n",
    "\n",
    "    # Count the frequency of each character\n",
    "    for char in input_string:\n",
    "        if char in char_frequency:\n",
    "            char_frequency[char] += 1\n",
    "        else:\n",
    "            char_frequency[char] = 1\n",
    "\n",
    "    # Find the character with maximum frequency\n",
    "    max_frequency_char = max(char_frequency, key=char_frequency.get)\n",
    "\n",
    "    return max_frequency_char\n",
    "\n",
    "# Example usage:\n",
    "input_string = \"programming\"\n",
    "result = max_frequency_character(input_string)\n",
    "print(\"Maximum frequency character:\", result)\n",
    "\n"
   ]
  },
  {
   "cell_type": "code",
   "execution_count": 44,
   "id": "f7983ad6-ebc3-4460-8762-582291b12953",
   "metadata": {},
   "outputs": [
    {
     "name": "stdout",
     "output_type": "stream",
     "text": [
      "The string contains special characters.\n"
     ]
    },
    {
     "name": "stderr",
     "output_type": "stream",
     "text": [
      "<>:6: SyntaxWarning: invalid escape sequence '\\['\n",
      "<>:6: SyntaxWarning: invalid escape sequence '\\['\n",
      "C:\\Users\\ajsai\\AppData\\Local\\Temp\\ipykernel_25728\\720896525.py:6: SyntaxWarning: invalid escape sequence '\\['\n",
      "  special_char_pattern = re.compile('[!@#$%^&*()_+{}\\[\\]:;<>,.?~\\\\/\\-]')\n"
     ]
    }
   ],
   "source": [
    "#Python | Program to check if a string contains any special character\n",
    "import re\n",
    "\n",
    "def contains_special_character(input_string):\n",
    "    # Define a regular expression pattern for special characters\n",
    "    special_char_pattern = re.compile('[!@#$%^&*()_+{}\\[\\]:;<>,.?~\\\\/\\-]')\n",
    "\n",
    "    # Search for the pattern in the input string\n",
    "    if special_char_pattern.search(input_string):\n",
    "        return True\n",
    "    else:\n",
    "        return False\n",
    "\n",
    "# Example usage:\n",
    "input_string = \"Hello@World\"\n",
    "result = contains_special_character(input_string)\n",
    "\n",
    "if result:\n",
    "    print(\"The string contains special characters.\")\n",
    "else:\n",
    "    print(\"The string does not contain special characters.\")\n",
    "\n"
   ]
  },
  {
   "cell_type": "code",
   "execution_count": null,
   "id": "0143f22c-1bc3-4aa3-95aa-6c470fd6d7e0",
   "metadata": {},
   "outputs": [],
   "source": [
    "#16.\tGenerating random strings until a given string is generated\n",
    "import random\n",
    "import string\n",
    "\n",
    "def generate_random_string(length):\n",
    "    return ''.join(random.choice(string.ascii_letters + string.digits) for _ in range(length))\n",
    "\n",
    "def generate_until_target(target_string):\n",
    "    attempts = 0\n",
    "    generated_string = \"\"\n",
    "\n",
    "    while generated_string != target_string:\n",
    "        generated_string = generate_random_string(len(target_string))\n",
    "        attempts += 1\n",
    "\n",
    "    return generated_string, attempts\n",
    "\n",
    "# Example usage:\n",
    "target_string = \"Hello123\"\n",
    "result, attempts = generate_until_target(target_string)\n",
    "\n",
    "print(f\"Target String: {target_string}\")\n",
    "print(f\"Generated String: {result}\")\n",
    "print(f\"Attempts: {attempts}\")\n"
   ]
  },
  {
   "cell_type": "code",
   "execution_count": null,
   "id": "7ecb1ff4-8db2-49f1-a3a7-da5995b788be",
   "metadata": {},
   "outputs": [],
   "source": [
    "#17.\tFind words which are greater than given length k\n",
    "def find_words_greater_than_length(text, k):\n",
    "    words = text.split()\n",
    "    result = [word for word in words if len(word) > k]\n",
    "    return result\n",
    "\n",
    "# Example usage:\n",
    "input_text = \"This is an example sentence with words of varying lengths.\"\n",
    "k = 5\n",
    "\n",
    "long_words = find_words_greater_than_length(input_text, k)\n",
    "print(f\"Words greater than length {k}: {long_words}\")\n"
   ]
  },
  {
   "cell_type": "code",
   "execution_count": null,
   "id": "535ac834-9a56-4db3-828b-75cd39c3afdc",
   "metadata": {},
   "outputs": [],
   "source": [
    "#18.\tPython program for removing i-th character from a string\n",
    "def remove_ith_character(input_string, i):\n",
    "    if i < 0 or i >= len(input_string):\n",
    "        return \"Invalid index\"\n",
    "\n",
    "    # Using string slicing to remove the i-th character\n",
    "    result_string = input_string[:i] + input_string[i+1:]\n",
    "\n",
    "    return result_string\n",
    "\n",
    "# Example usage:\n",
    "input_str = \"example\"\n",
    "index_to_remove = 2\n",
    "\n",
    "result = remove_ith_character(input_str, index_to_remove)\n",
    "print(f\"Original String: {input_str}\")\n",
    "print(f\"String after removing character at index {index_to_remove}: {result}\")\n"
   ]
  },
  {
   "cell_type": "code",
   "execution_count": null,
   "id": "0f921db7-a355-4f34-8e8b-2b898d680b4b",
   "metadata": {},
   "outputs": [],
   "source": [
    "#19.\tPython program to split and join a string\n",
    "def split_and_join(input_string, delimiter=' '):\n",
    "    # Splitting the string into a list of substrings\n",
    "    words = input_string.split(delimiter)\n",
    "\n",
    "    # Joining the list of substrings into a single string\n",
    "    result_string = delimiter.join(words)\n",
    "\n",
    "    return result_string\n",
    "\n",
    "# Example usage:\n",
    "original_string = \"This is an example string.\"\n",
    "\n",
    "# Splitting the string using a space as the delimiter\n",
    "split_result = split_and_join(original_string)\n",
    "\n",
    "# Joining the list of substrings using a hyphen as the delimiter\n",
    "join_result = split_and_join(split_result, '-')\n",
    "\n",
    "print(f\"Original String: {original_string}\")\n",
    "print(f\"String after splitting: {split_result}\")\n",
    "print(f\"String after joining with hyphen: {join_result}\")\n"
   ]
  },
  {
   "cell_type": "code",
   "execution_count": null,
   "id": "9e22827b-374a-4d71-831b-6c37348a48a6",
   "metadata": {},
   "outputs": [],
   "source": [
    "#Python | Check if a given string is binary string or not\n",
    "def is_binary_string(input_string):\n",
    "    for char in input_string:\n",
    "        if char != '0' and char != '1':\n",
    "            return False\n",
    "    return True\n",
    "\n",
    "# Example usage:\n",
    "binary_str = \"1010101\"\n",
    "non_binary_str = \"12345\"\n",
    "\n",
    "print(f\"Is '{binary_str}' a binary string? {is_binary_string(binary_str)}\")\n",
    "print(f\"Is '{non_binary_str}' a binary string? {is_binary_string(non_binary_str)}\")\n",
    "\n"
   ]
  },
  {
   "cell_type": "code",
   "execution_count": null,
   "id": "a626bea7-e4d8-475a-98f2-8f85cb0437b1",
   "metadata": {},
   "outputs": [],
   "source": [
    "#Python program to find uncommon words from two Strings\n",
    "def find_uncommon_words(string1, string2):\n",
    "    words1 = set(string1.split())\n",
    "    words2 = set(string2.split())\n",
    "\n",
    "    uncommon_words = words1.symmetric_difference(words2)\n",
    "    return uncommon_words\n",
    "\n",
    "# Example usage:\n",
    "string1 = \"This is the first string.\"\n",
    "string2 = \"This is the second string with some different words.\"\n",
    "\n",
    "uncommon_words_result = find_uncommon_words(string1, string2)\n",
    "\n",
    "print(f\"String 1: {string1}\")\n",
    "print(f\"String 2: {string2}\")\n",
    "print(f\"Uncommon Words: {uncommon_words_result}\")\n"
   ]
  },
  {
   "cell_type": "code",
   "execution_count": null,
   "id": "89bd25e7-701d-4f28-b4e0-cd798601cdac",
   "metadata": {},
   "outputs": [],
   "source": [
    " #22.\tPython – Replace duplicate Occurrence in String\n",
    "def replace_duplicate_occurrence(input_string):\n",
    "    words = input_string.split()\n",
    "    seen_words = set()\n",
    "    result_words = []\n",
    "\n",
    "    for word in words:\n",
    "        if word in seen_words:\n",
    "            result_words.append('duplicate')\n",
    "        else:\n",
    "            seen_words.add(word)\n",
    "            result_words.append(word)\n",
    "\n",
    "    result_string = ' '.join(result_words)\n",
    "    return result_string\n",
    "\n",
    "# Example usage:\n",
    "input_str = \"This is a simple example. This is another example of a simple program.\"\n",
    "\n",
    "result = replace_duplicate_occurrence(input_str)\n",
    "print(f\"Original String: {input_str}\")\n",
    "print(f\"String after replacing duplicate occurrences: {result}\")\n"
   ]
  },
  {
   "cell_type": "code",
   "execution_count": 1,
   "id": "60d8e4e8-274d-4502-8a26-b56b5c29f913",
   "metadata": {},
   "outputs": [
    {
     "name": "stdout",
     "output_type": "stream",
     "text": [
      "Original String: This is an example. It has some words to replace, like apple, banana, and cherry.\n",
      "String after replacing words with 'K': This is an example. It has some words to replace, like apple, banana, and cherry.\n"
     ]
    }
   ],
   "source": [
    "#23.\tPython – Replace multiple words with K\n",
    "def replace_multiple_words(input_string, words_to_replace):\n",
    "    words = input_string.split()\n",
    "    result_words = []\n",
    "\n",
    "    for word in words:\n",
    "        if word in words_to_replace:\n",
    "            result_words.append('K')\n",
    "        else:\n",
    "            result_words.append(word)\n",
    "\n",
    "    result_string = ' '.join(result_words)\n",
    "    return result_string\n",
    "\n",
    "# Example usage:\n",
    "input_str = \"This is an example. It has some words to replace, like apple, banana, and cherry.\"\n",
    "words_to_replace = [\"apple\", \"banana\", \"cherry\"]\n",
    "\n",
    "result = replace_multiple_words(input_str, words_to_replace)\n",
    "print(f\"Original String: {input_str}\")\n",
    "print(f\"String after replacing words with 'K': {result}\")\n"
   ]
  },
  {
   "cell_type": "code",
   "execution_count": 2,
   "id": "b1733704-0e5c-4557-a80b-ffd3202ba378",
   "metadata": {},
   "outputs": [
    {
     "name": "stdout",
     "output_type": "stream",
     "text": [
      "Original String: abc\n",
      "Permutations: ['abc', 'acb', 'bac', 'bca', 'cab', 'cba']\n"
     ]
    }
   ],
   "source": [
    "#24.\tPython | Permutation of a given string using inbuilt function\n",
    "from itertools import permutations\n",
    "\n",
    "def generate_permutations(input_string):\n",
    "    # Using permutations function to generate all permutations\n",
    "    permuted_strings = [''.join(perm) for perm in permutations(input_string)]\n",
    "\n",
    "    return permuted_strings\n",
    "\n",
    "# Example usage:\n",
    "input_str = \"abc\"\n",
    "\n",
    "result = generate_permutations(input_str)\n",
    "print(f\"Original String: {input_str}\")\n",
    "print(f\"Permutations: {result}\")\n"
   ]
  },
  {
   "cell_type": "code",
   "execution_count": 3,
   "id": "d89da658-58a6-4c20-978a-eec1a74c1397",
   "metadata": {},
   "outputs": [
    {
     "name": "stdout",
     "output_type": "stream",
     "text": [
      "Does the first text contain a URL? True\n",
      "Does the second text contain a URL? False\n"
     ]
    }
   ],
   "source": [
    "#25.\tPython | Check for URL in a String\n",
    "import re\n",
    "\n",
    "def contains_url(input_string):\n",
    "    # Regular expression for matching URLs\n",
    "    url_pattern = re.compile(r'https?://\\S+|www\\.\\S+')\n",
    "\n",
    "    # Search for the pattern in the input string\n",
    "    match = url_pattern.search(input_string)\n",
    "\n",
    "    # Return True if a URL is found, False otherwise\n",
    "    return bool(match)\n",
    "\n",
    "# Example usage:\n",
    "text_with_url = \"This is a text with a URL: https://www.example.com\"\n",
    "text_without_url = \"This text does not contain any URL.\"\n",
    "\n",
    "print(f\"Does the first text contain a URL? {contains_url(text_with_url)}\")\n",
    "print(f\"Does the second text contain a URL? {contains_url(text_without_url)}\")\n"
   ]
  },
  {
   "cell_type": "code",
   "execution_count": 4,
   "id": "0af56539-5e65-4752-b089-910aeba234d2",
   "metadata": {},
   "outputs": [
    {
     "name": "stdout",
     "output_type": "stream",
     "text": [
      "Hello, John!\n"
     ]
    }
   ],
   "source": [
    "#26.\tExecute a String of Code in Python\n",
    "code_to_execute = \"\"\"\n",
    "def greet(name):\n",
    "    return f\"Hello, {name}!\"\n",
    "\n",
    "result = greet(\"John\")\n",
    "print(result)\n",
    "\"\"\"\n",
    "\n",
    "try:\n",
    "    exec(code_to_execute)\n",
    "except Exception as e:\n",
    "    print(f\"An error occurred: {e}\")\n"
   ]
  },
  {
   "cell_type": "code",
   "execution_count": 6,
   "id": "a972842b-f811-4006-9cfe-324c32ccb6e8",
   "metadata": {},
   "outputs": [
    {
     "name": "stdout",
     "output_type": "stream",
     "text": [
      "Original String: HelloWorld\n",
      "Rotated String: loWorldHel\n"
     ]
    }
   ],
   "source": [
    "#27.\tString slicing in Python to rotate a string\n",
    "def rotate_string(input_str, shift):\n",
    "    length = len(input_str)\n",
    "    # Calculate the effective shift considering rotations beyond the length of the string\n",
    "    shift = shift % length\n",
    "    # Perform the rotation using string slicing\n",
    "    rotated_str = input_str[shift:] + input_str[:shift]\n",
    "    return rotated_str\n",
    "\n",
    "# Example usage:\n",
    "original_str = \"HelloWorld\"\n",
    "rotated_str = rotate_string(original_str, 3)\n",
    "print(\"Original String:\", original_str)\n",
    "print(\"Rotated String:\", rotated_str)\n"
   ]
  },
  {
   "cell_type": "code",
   "execution_count": 7,
   "id": "2fb045a6-b929-4c8a-8bfb-f1e200d5d989",
   "metadata": {},
   "outputs": [
    {
     "name": "stdout",
     "output_type": "stream",
     "text": [
      "Can the string 'abcde' become empty by recursive deletion? True\n"
     ]
    }
   ],
   "source": [
    "#28.\tString slicing in Python to check if a string can become empty by recursive deletion\n",
    "def can_become_empty(s):\n",
    "    # Base case: an empty string can become empty\n",
    "    if not s:\n",
    "        return True\n",
    "    \n",
    "    # Try deleting each character and check recursively\n",
    "    for i in range(len(s)):\n",
    "        new_string = s[:i] + s[i+1:]\n",
    "        if can_become_empty(new_string):\n",
    "            return True\n",
    "    \n",
    "    # If no deletion leads to an empty string, return False\n",
    "    return False\n",
    "\n",
    "# Example usage:\n",
    "input_str = \"abcde\"\n",
    "result = can_become_empty(input_str)\n",
    "print(f\"Can the string '{input_str}' become empty by recursive deletion? {result}\")\n"
   ]
  },
  {
   "cell_type": "code",
   "execution_count": 8,
   "id": "f9b0e10f-0565-4dbe-81b4-744322e038dd",
   "metadata": {},
   "outputs": [
    {
     "name": "stdout",
     "output_type": "stream",
     "text": [
      "The duplicate characters in 'hello world' are: ['l', 'o']\n"
     ]
    }
   ],
   "source": [
    "#29.\tPython Counter| Find all duplicate characters in string\n",
    "from collections import Counter\n",
    "\n",
    "def find_duplicates(input_str):\n",
    "    # Use Counter to count occurrences of each character\n",
    "    char_count = Counter(input_str)\n",
    "    \n",
    "    # Find characters with count greater than 1 (duplicates)\n",
    "    duplicates = [char for char, count in char_count.items() if count > 1]\n",
    "    \n",
    "    return duplicates\n",
    "\n",
    "# Example usage:\n",
    "input_str = \"hello world\"\n",
    "duplicate_characters = find_duplicates(input_str)\n",
    "print(f\"The duplicate characters in '{input_str}' are: {duplicate_characters}\")\n"
   ]
  },
  {
   "cell_type": "code",
   "execution_count": 9,
   "id": "21a2b77f-9bc0-45cd-b4a4-389b913dfc2c",
   "metadata": {},
   "outputs": [
    {
     "name": "stdout",
     "output_type": "stream",
     "text": [
      "Original String: Hello, World! Hello, Python!\n",
      "Modified String: Hi, World! Hi, Python!\n"
     ]
    }
   ],
   "source": [
    "#30.\tPython – Replace all occurrences of a substring in a string\n",
    "def replace_substring(input_str, old_substring, new_substring):\n",
    "    # Use the replace method to replace all occurrences\n",
    "    modified_str = input_str.replace(old_substring, new_substring)\n",
    "    return modified_str\n",
    "\n",
    "# Example usage:\n",
    "original_str = \"Hello, World! Hello, Python!\"\n",
    "old_substr = \"Hello\"\n",
    "new_substr = \"Hi\"\n",
    "\n",
    "result_str = replace_substring(original_str, old_substr, new_substr)\n",
    "print(\"Original String:\", original_str)\n",
    "print(\"Modified String:\", result_str)\n"
   ]
  },
  {
   "cell_type": "code",
   "execution_count": 10,
   "id": "be25df55-98dc-43cf-a914-f7925759ed4a",
   "metadata": {},
   "outputs": [
    {
     "name": "stdout",
     "output_type": "stream",
     "text": [
      "Original Dictionary: {'a': [1, 2, 3], 'b': [2, 3, 4], 'c': 3, 'd': (4, 5, 6)}\n",
      "Unique Values List: [1, 2, 3, 4, 5, 6]\n"
     ]
    }
   ],
   "source": [
    "#1.\tPython – Extract Unique values dictionary values\n",
    "def extract_unique_values(dictionary):\n",
    "    unique_values = set()\n",
    "\n",
    "    # Iterate through the values of the dictionary\n",
    "    for values in dictionary.values():\n",
    "        # If the value is iterable (e.g., a list or tuple), extend the set\n",
    "        if isinstance(values, (list, tuple)):\n",
    "            unique_values.update(values)\n",
    "        else:\n",
    "            # If the value is not iterable, add it to the set\n",
    "            unique_values.add(values)\n",
    "\n",
    "    return list(unique_values)\n",
    "\n",
    "# Example usage:\n",
    "my_dict = {'a': [1, 2, 3], 'b': [2, 3, 4], 'c': 3, 'd': (4, 5, 6)}\n",
    "unique_values_list = extract_unique_values(my_dict)\n",
    "\n",
    "print(\"Original Dictionary:\", my_dict)\n",
    "print(\"Unique Values List:\", unique_values_list)\n"
   ]
  },
  {
   "cell_type": "code",
   "execution_count": 11,
   "id": "0854108f-60cb-4702-bd53-bcdd71f11002",
   "metadata": {},
   "outputs": [
    {
     "name": "stdout",
     "output_type": "stream",
     "text": [
      "Original Dictionary: {'a': 10, 'b': 20, 'c': 30, 'd': 40}\n",
      "Sum of All Items: 100\n"
     ]
    }
   ],
   "source": [
    "#2.\tPython program to find the sum of all items in a dictionary\n",
    "def sum_of_dict_items(dictionary):\n",
    "    total_sum = 0\n",
    "\n",
    "    # Iterate through the values of the dictionary and add them to the total sum\n",
    "    for value in dictionary.values():\n",
    "        total_sum += value\n",
    "\n",
    "    return total_sum\n",
    "\n",
    "# Example usage:\n",
    "my_dict = {'a': 10, 'b': 20, 'c': 30, 'd': 40}\n",
    "result_sum = sum_of_dict_items(my_dict)\n",
    "\n",
    "print(\"Original Dictionary:\", my_dict)\n",
    "print(\"Sum of All Items:\", result_sum)\n"
   ]
  },
  {
   "cell_type": "code",
   "execution_count": 12,
   "id": "693b0681-1ef1-42cb-945e-b37979cd3806",
   "metadata": {},
   "outputs": [
    {
     "name": "stdout",
     "output_type": "stream",
     "text": [
      "Dictionary after removal: {'a': 1, 'c': 3}\n"
     ]
    }
   ],
   "source": [
    "#3.\tPython | Ways to remove a key from dictionary\n",
    "def remove_key_using_del(dictionary, key_to_remove):\n",
    "    if key_to_remove in dictionary:\n",
    "        del dictionary[key_to_remove]\n",
    "\n",
    "# Example usage:\n",
    "my_dict = {'a': 1, 'b': 2, 'c': 3}\n",
    "remove_key_using_del(my_dict, 'b')\n",
    "print(\"Dictionary after removal:\", my_dict)\n"
   ]
  },
  {
   "cell_type": "code",
   "execution_count": 13,
   "id": "3cb43eb3-f3e1-410f-9859-dfc63764ad1f",
   "metadata": {},
   "outputs": [
    {
     "name": "stdout",
     "output_type": "stream",
     "text": [
      "Original List of Dicts: [{'name': 'Alice', 'age': 30, 'score': 95}, {'name': 'Bob', 'age': 25, 'score': 85}, {'name': 'Charlie', 'age': 35, 'score': 90}]\n",
      "Sorted List by Age: [{'name': 'Bob', 'age': 25, 'score': 85}, {'name': 'Alice', 'age': 30, 'score': 95}, {'name': 'Charlie', 'age': 35, 'score': 90}]\n",
      "Sorted List by Score: [{'name': 'Bob', 'age': 25, 'score': 85}, {'name': 'Charlie', 'age': 35, 'score': 90}, {'name': 'Alice', 'age': 30, 'score': 95}]\n"
     ]
    }
   ],
   "source": [
    "#4.\tWays to sort list of dictionaries by values in Python – Using itemgetter\n",
    "from operator import itemgetter\n",
    "\n",
    "def sort_list_of_dicts_by_key(input_list, sort_key):\n",
    "    sorted_list = sorted(input_list, key=itemgetter(sort_key))\n",
    "    return sorted_list\n",
    "\n",
    "# Example usage:\n",
    "list_of_dicts = [\n",
    "    {'name': 'Alice', 'age': 30, 'score': 95},\n",
    "    {'name': 'Bob', 'age': 25, 'score': 85},\n",
    "    {'name': 'Charlie', 'age': 35, 'score': 90}\n",
    "]\n",
    "\n",
    "sorted_list_by_age = sort_list_of_dicts_by_key(list_of_dicts, 'age')\n",
    "sorted_list_by_score = sort_list_of_dicts_by_key(list_of_dicts, 'score')\n",
    "\n",
    "print(\"Original List of Dicts:\", list_of_dicts)\n",
    "print(\"Sorted List by Age:\", sorted_list_by_age)\n",
    "print(\"Sorted List by Score:\", sorted_list_by_score)\n"
   ]
  },
  {
   "cell_type": "code",
   "execution_count": 14,
   "id": "0a9478cd-5890-4c46-b862-bf8215b2e93c",
   "metadata": {},
   "outputs": [
    {
     "name": "stdout",
     "output_type": "stream",
     "text": [
      "Original List of Dicts: [{'name': 'Alice', 'age': 30, 'score': 95}, {'name': 'Bob', 'age': 25, 'score': 85}, {'name': 'Charlie', 'age': 35, 'score': 90}]\n",
      "Sorted List by Age: [{'name': 'Bob', 'age': 25, 'score': 85}, {'name': 'Alice', 'age': 30, 'score': 95}, {'name': 'Charlie', 'age': 35, 'score': 90}]\n",
      "Sorted List by Score: [{'name': 'Bob', 'age': 25, 'score': 85}, {'name': 'Charlie', 'age': 35, 'score': 90}, {'name': 'Alice', 'age': 30, 'score': 95}]\n"
     ]
    }
   ],
   "source": [
    "#5.\tWays to sort list of dictionaries by values in Python – Using lambda function\n",
    "def sort_list_of_dicts_by_key_lambda(input_list, sort_key):\n",
    "    sorted_list = sorted(input_list, key=lambda x: x[sort_key])\n",
    "    return sorted_list\n",
    "\n",
    "# Example usage:\n",
    "list_of_dicts = [\n",
    "    {'name': 'Alice', 'age': 30, 'score': 95},\n",
    "    {'name': 'Bob', 'age': 25, 'score': 85},\n",
    "    {'name': 'Charlie', 'age': 35, 'score': 90}\n",
    "]\n",
    "\n",
    "sorted_list_by_age = sort_list_of_dicts_by_key_lambda(list_of_dicts, 'age')\n",
    "sorted_list_by_score = sort_list_of_dicts_by_key_lambda(list_of_dicts, 'score')\n",
    "\n",
    "print(\"Original List of Dicts:\", list_of_dicts)\n",
    "print(\"Sorted List by Age:\", sorted_list_by_age)\n",
    "print(\"Sorted List by Score:\", sorted_list_by_score)\n"
   ]
  },
  {
   "cell_type": "code",
   "execution_count": 15,
   "id": "fae1b555-cbdc-4079-a568-b39b8001b96a",
   "metadata": {},
   "outputs": [
    {
     "name": "stdout",
     "output_type": "stream",
     "text": [
      "Merged Dictionary: {'a': 1, 'b': 3, 'c': 4}\n"
     ]
    }
   ],
   "source": [
    "#6.\tPython | Merging two Dictionaries\n",
    "def merge_dicts(dict1, dict2):\n",
    "    merged_dict = dict1.copy()\n",
    "    merged_dict.update(dict2)\n",
    "    return merged_dict\n",
    "\n",
    "# Example usage:\n",
    "dict1 = {'a': 1, 'b': 2}\n",
    "dict2 = {'b': 3, 'c': 4}\n",
    "\n",
    "merged_dict = merge_dicts(dict1, dict2)\n",
    "print(\"Merged Dictionary:\", merged_dict)\n"
   ]
  },
  {
   "cell_type": "code",
   "execution_count": 16,
   "id": "e0ca2918-6d5e-48ee-872a-099e3143b52b",
   "metadata": {},
   "outputs": [
    {
     "name": "stdout",
     "output_type": "stream",
     "text": [
      "Flat Dictionary: {'a': 1, 'b': 2, 'c': 3}\n"
     ]
    }
   ],
   "source": [
    "#7.\tPython – Convert key-values list to flat dictionary\n",
    "def list_to_flat_dict(key_value_list):\n",
    "    flat_dict = {key: value for key, value in key_value_list}\n",
    "    return flat_dict\n",
    "\n",
    "# Example usage:\n",
    "key_value_list = [('a', 1), ('b', 2), ('c', 3)]\n",
    "\n",
    "flat_dictionary = list_to_flat_dict(key_value_list)\n",
    "print(\"Flat Dictionary:\", flat_dictionary)\n"
   ]
  },
  {
   "cell_type": "code",
   "execution_count": 18,
   "id": "852d4818-9716-442f-aa62-fb8fdfd88b1b",
   "metadata": {},
   "outputs": [
    {
     "name": "stdout",
     "output_type": "stream",
     "text": [
      "Original OrderedDict: OrderedDict({'b': 2, 'c': 3})\n",
      "OrderedDict after insertion at the beginning: OrderedDict({'b': 2, 'c': 3, 'a': 1})\n"
     ]
    }
   ],
   "source": [
    "#8.\tPython – Insertion at the beginning in OrderedDict\n",
    "from collections import OrderedDict\n",
    "\n",
    "def insert_at_beginning(ordered_dict, key, value):\n",
    "    # Move the specified key to the end (last position) if present\n",
    "    # If the key is not present, add it to the OrderedDict at the beginning\n",
    "    ordered_dict[key] = ordered_dict.pop(key, value)\n",
    "\n",
    "# Example usage:\n",
    "ordered_dict = OrderedDict([('b', 2), ('c', 3)])\n",
    "\n",
    "print(\"Original OrderedDict:\", ordered_dict)\n",
    "\n",
    "insert_at_beginning(ordered_dict, 'a', 1)\n",
    "print(\"OrderedDict after insertion at the beginning:\", ordered_dict)\n",
    "\n"
   ]
  },
  {
   "cell_type": "code",
   "execution_count": 19,
   "id": "32e015f3-b857-4615-895a-c1003f31df0e",
   "metadata": {},
   "outputs": [
    {
     "name": "stdout",
     "output_type": "stream",
     "text": [
      "The characters in 'HelloWorld' appear in the order 'Hlo'.\n"
     ]
    }
   ],
   "source": [
    "#9.\tPython | Check order of character in string using OrderedDict( )\n",
    "from collections import OrderedDict\n",
    "\n",
    "def check_order(input_str, pattern):\n",
    "    # Create an OrderedDict to store the order of appearance\n",
    "    order_dict = OrderedDict.fromkeys(pattern)\n",
    "    \n",
    "    # Initialize the index in the OrderedDict\n",
    "    index = 0\n",
    "    \n",
    "    # Iterate through the characters in the input string\n",
    "    for char in input_str:\n",
    "        # Check if the character is part of the pattern\n",
    "        if char in order_dict:\n",
    "            # Check if the character appears in the correct order\n",
    "            if char == pattern[index]:\n",
    "                # Move to the next index in the pattern\n",
    "                index += 1\n",
    "                # If all characters have appeared in order, return True\n",
    "                if index == len(pattern):\n",
    "                    return True\n",
    "    \n",
    "    # If the loop completes, the order is not correct\n",
    "    return False\n",
    "\n",
    "# Example usage:\n",
    "input_string = \"HelloWorld\"\n",
    "pattern_to_check = \"Hlo\"\n",
    "\n",
    "result = check_order(input_string, pattern_to_check)\n",
    "\n",
    "if result:\n",
    "    print(f\"The characters in '{input_string}' appear in the order '{pattern_to_check}'.\")\n",
    "else:\n",
    "    print(f\"The characters in '{input_string}' do not appear in the order '{pattern_to_check}'.\")\n"
   ]
  },
  {
   "cell_type": "code",
   "execution_count": 20,
   "id": "f9e86b70-6171-483b-b225-af3001fe074b",
   "metadata": {},
   "outputs": [
    {
     "name": "stdout",
     "output_type": "stream",
     "text": [
      "The winner of the election is: Candidate A with 3 votes.\n"
     ]
    }
   ],
   "source": [
    "#10.\tDictionary and counter in Python to find winner of election\n",
    "from collections import Counter\n",
    "\n",
    "def find_winner(votes):\n",
    "    # Use Counter to count the votes\n",
    "    vote_counts = Counter(votes)\n",
    "\n",
    "    # Find the candidate with the maximum votes\n",
    "    winner = max(vote_counts, key=vote_counts.get)\n",
    "\n",
    "    # Check if there is a tie (multiple candidates with the same maximum votes)\n",
    "    if list(vote_counts.values()).count(vote_counts[winner]) > 1:\n",
    "        print(\"There is a tie. No clear winner.\")\n",
    "    else:\n",
    "        print(f\"The winner of the election is: {winner} with {vote_counts[winner]} votes.\")\n",
    "\n",
    "# Example usage:\n",
    "votes = [\"Candidate A\", \"Candidate B\", \"Candidate A\", \"Candidate C\", \"Candidate B\", \"Candidate A\"]\n",
    "\n",
    "find_winner(votes)\n"
   ]
  },
  {
   "cell_type": "code",
   "execution_count": 21,
   "id": "7fb43db2-007b-4bff-a601-df6ea1cc6386",
   "metadata": {},
   "outputs": [
    {
     "name": "stdout",
     "output_type": "stream",
     "text": [
      "Original Dictionary: {'a': 1, 'b': 2, 'c': 3, 'd': 4}\n"
     ]
    }
   ],
   "source": [
    "#11.\tPython – Append Dictionary Keys and Values ( In order ) in dictionary\n",
    "def append_keys_values(original_dict, keys, values):\n",
    "    # Use the zip function to pair keys and values\n",
    "    key_value_pairs = zip(keys, values)\n",
    "    \n",
    "    # Use the update method to append the key-value pairs\n",
    "    original_dict.update(key_value_pairs)\n",
    "\n",
    "# Example usage:\n",
    "existing_dict = {'a': 1, 'b': 2}\n",
    "new_keys = ['c', 'd']\n",
    "new_values = [3, 4]\n",
    "\n",
    "append_keys_values(existing_dict, new_keys, new_values)\n",
    "\n",
    "print(\"Original Dictionary:\", existing_dict)\n"
   ]
  },
  {
   "cell_type": "code",
   "execution_count": 22,
   "id": "a8adbadc-33b2-4e12-96de-06b311a41a3a",
   "metadata": {},
   "outputs": [
    {
     "name": "stdout",
     "output_type": "stream",
     "text": [
      "Original Dictionary: {'b': 2, 'a': 1, 'c': 3}\n",
      "Sorted by Key: {'a': 1, 'b': 2, 'c': 3}\n"
     ]
    }
   ],
   "source": [
    "#12.\tPython | Sort Python Dictionaries by Key or Value\n",
    "def sort_dict_by_key(input_dict):\n",
    "    sorted_dict = dict(sorted(input_dict.items()))\n",
    "    return sorted_dict\n",
    "\n",
    "# Example usage:\n",
    "my_dict = {'b': 2, 'a': 1, 'c': 3}\n",
    "\n",
    "sorted_by_key = sort_dict_by_key(my_dict)\n",
    "print(\"Original Dictionary:\", my_dict)\n",
    "print(\"Sorted by Key:\", sorted_by_key)\n"
   ]
  },
  {
   "cell_type": "code",
   "execution_count": 23,
   "id": "e7d4b3d9-d488-4f17-86a7-7fda19808c93",
   "metadata": {},
   "outputs": [
    {
     "name": "stdout",
     "output_type": "stream",
     "text": [
      "Original Dictionary: {'b': 2, 'a': 1, 'c': 3}\n",
      "Sorted by Keys and Values: {'a': 1, 'b': 2, 'c': 3}\n"
     ]
    }
   ],
   "source": [
    "#13.\tPython – Sort Dictionary key and values List\n",
    "def sort_dict_by_keys_and_values(input_dict):\n",
    "    sorted_dict = dict(sorted(input_dict.items(), key=lambda item: (item[0], item[1])))\n",
    "    return sorted_dict\n",
    "\n",
    "# Example usage:\n",
    "my_dict = {'b': 2, 'a': 1, 'c': 3}\n",
    "\n",
    "sorted_by_keys_and_values = sort_dict_by_keys_and_values(my_dict)\n",
    "print(\"Original Dictionary:\", my_dict)\n",
    "print(\"Sorted by Keys and Values:\", sorted_by_keys_and_values)\n"
   ]
  },
  {
   "cell_type": "code",
   "execution_count": 24,
   "id": "353c8809-7304-4aed-9896-17831fbe5310",
   "metadata": {},
   "outputs": [
    {
     "name": "stdout",
     "output_type": "stream",
     "text": [
      "Value for key 'd': 0\n"
     ]
    }
   ],
   "source": [
    "#14.\tHandling missing keys in Python dictionaries\n",
    "my_dict = {'a': 1, 'b': 2, 'c': 3}\n",
    "\n",
    "# Using get method with a default value\n",
    "value = my_dict.get('d', 0)\n",
    "print(\"Value for key 'd':\", value)\n"
   ]
  },
  {
   "cell_type": "code",
   "execution_count": 25,
   "id": "e5a75571-8de0-4930-a00e-26cd84fe0166",
   "metadata": {},
   "outputs": [
    {
     "name": "stdout",
     "output_type": "stream",
     "text": [
      "Age of Alice and Bob: 25\n",
      "Age of Eva and Frank: 22\n"
     ]
    }
   ],
   "source": [
    "#15.\tPython dictionary with keys having multiple inputs\n",
    "# Creating a dictionary with keys having multiple inputs using tuples\n",
    "multi_input_dict = {\n",
    "    ('Alice', 'Bob'): 25,\n",
    "    ('Charlie', 'David'): 30,\n",
    "    ('Eva', 'Frank'): 22\n",
    "}\n",
    "\n",
    "# Accessing values using keys with multiple inputs\n",
    "print(\"Age of Alice and Bob:\", multi_input_dict[('Alice', 'Bob')])\n",
    "print(\"Age of Eva and Frank:\", multi_input_dict[('Eva', 'Frank')])\n"
   ]
  },
  {
   "cell_type": "code",
   "execution_count": 26,
   "id": "a866e8dc-bd1f-4309-b9da-ca27c98815e7",
   "metadata": {},
   "outputs": [
    {
     "name": "stdout",
     "output_type": "stream",
     "text": [
      "Anagrams Together:\n",
      "listen silent enlist\n",
      "hello\n",
      "world\n",
      "python typhon\n"
     ]
    }
   ],
   "source": [
    "#16.\tPrint anagrams together in Python using List and Dictionary\n",
    "def print_anagrams(words):\n",
    "    anagram_dict = {}\n",
    "\n",
    "    for word in words:\n",
    "        # Sort the characters of the word and use it as a key in the dictionary\n",
    "        sorted_word = ''.join(sorted(word))\n",
    "        \n",
    "        # Add the word to the list associated with the sorted key\n",
    "        anagram_dict.setdefault(sorted_word, []).append(word)\n",
    "\n",
    "    # Print the groups of anagrams\n",
    "    for anagram_group in anagram_dict.values():\n",
    "        print(\" \".join(anagram_group))\n",
    "\n",
    "# Example usage:\n",
    "word_list = [\"listen\", \"silent\", \"enlist\", \"hello\", \"world\", \"python\", \"typhon\"]\n",
    "\n",
    "print(\"Anagrams Together:\")\n",
    "print_anagrams(word_list)\n"
   ]
  },
  {
   "cell_type": "code",
   "execution_count": 27,
   "id": "ff9fd8f7-96e7-4fe7-a209-0d0e1812c36e",
   "metadata": {},
   "outputs": [
    {
     "name": "stdout",
     "output_type": "stream",
     "text": [
      "The 3th non-repeating character is: a\n"
     ]
    }
   ],
   "source": [
    "#17.\tK’th Non-repeating Character in Python using List Comprehension and OrderedDict\n",
    "from collections import OrderedDict\n",
    "\n",
    "def kth_non_repeating_character(input_str, k):\n",
    "    char_counts = OrderedDict()\n",
    "\n",
    "    # Count occurrences of each character\n",
    "    for char in input_str:\n",
    "        char_counts[char] = char_counts.get(char, 0) + 1\n",
    "\n",
    "    # Use list comprehension to get K'th non-repeating character\n",
    "    non_repeating_chars = [char for char, count in char_counts.items() if count == 1]\n",
    "\n",
    "    # Check if there are at least K non-repeating characters\n",
    "    if len(non_repeating_chars) >= k:\n",
    "        return non_repeating_chars[k - 1]\n",
    "    else:\n",
    "        return \"No K'th non-repeating character found.\"\n",
    "\n",
    "# Example usage:\n",
    "input_string = \"programming\"\n",
    "k_value = 3\n",
    "\n",
    "result = kth_non_repeating_character(input_string, k_value)\n",
    "print(f\"The {k_value}th non-repeating character is: {result}\")\n"
   ]
  },
  {
   "cell_type": "code",
   "execution_count": 28,
   "id": "da5601a9-a309-4611-8076-e4dbc4054ca2",
   "metadata": {},
   "outputs": [
    {
     "name": "stdout",
     "output_type": "stream",
     "text": [
      "The binary representations of 9 and 12 are anagrams.\n"
     ]
    }
   ],
   "source": [
    "#18.\tCheck if binary representations of two numbers are anagram\n",
    "def are_binary_anagrams(num1, num2):\n",
    "    # Convert numbers to binary strings\n",
    "    binary_str1 = bin(num1)[2:]\n",
    "    binary_str2 = bin(num2)[2:]\n",
    "\n",
    "    # Check if the sorted binary strings are equal (anagrams)\n",
    "    return sorted(binary_str1) == sorted(binary_str2)\n",
    "\n",
    "# Example usage:\n",
    "number1 = 9\n",
    "number2 = 12\n",
    "\n",
    "result = are_binary_anagrams(number1, number2)\n",
    "\n",
    "if result:\n",
    "    print(f\"The binary representations of {number1} and {number2} are anagrams.\")\n",
    "else:\n",
    "    print(f\"The binary representations of {number1} and {number2} are not anagrams.\")\n"
   ]
  },
  {
   "cell_type": "code",
   "execution_count": 29,
   "id": "3b247903-5abd-461c-ba91-2ef9f2c8a52b",
   "metadata": {},
   "outputs": [
    {
     "name": "stdout",
     "output_type": "stream",
     "text": [
      "Size of the largest subset of anagram words: 3\n"
     ]
    }
   ],
   "source": [
    "#19.\tPython Counter to find the size of largest subset of anagram words\n",
    "from collections import Counter\n",
    "\n",
    "def largest_anagram_subset(words):\n",
    "    anagram_groups = {}\n",
    "    \n",
    "    # Group words by their character counts using Counter\n",
    "    for word in words:\n",
    "        char_count = Counter(word)\n",
    "        char_count_tuple = tuple(sorted(char_count.items()))\n",
    "        \n",
    "        # Add the word to the corresponding group\n",
    "        anagram_groups.setdefault(char_count_tuple, []).append(word)\n",
    "\n",
    "    # Find the size of the largest subset\n",
    "    largest_subset_size = max(len(group) for group in anagram_groups.values())\n",
    "\n",
    "    return largest_subset_size\n",
    "\n",
    "# Example usage:\n",
    "word_list = [\"listen\", \"silent\", \"enlist\", \"hello\", \"world\", \"python\", \"typhon\"]\n",
    "\n",
    "result = largest_anagram_subset(word_list)\n",
    "print(\"Size of the largest subset of anagram words:\", result)\n"
   ]
  },
  {
   "cell_type": "code",
   "execution_count": 30,
   "id": "37a47e2a-efe4-47f8-9bf5-aac8f9ba0564",
   "metadata": {},
   "outputs": [
    {
     "name": "stdout",
     "output_type": "stream",
     "text": [
      "Original Sentence: the quick brown fox jumps over the lazy dog the quick brown dog\n",
      "Sentence without Duplicate Words: brown dog lazy quick fox jumps the over\n"
     ]
    }
   ],
   "source": [
    "#20.\tPython | Remove all duplicates words from a given sentence\n",
    "def remove_duplicates(sentence):\n",
    "    words = sentence.split()\n",
    "    unique_words = set(words)\n",
    "    result_sentence = ' '.join(unique_words)\n",
    "    return result_sentence\n",
    "\n",
    "# Example usage:\n",
    "input_sentence = \"the quick brown fox jumps over the lazy dog the quick brown dog\"\n",
    "\n",
    "result = remove_duplicates(input_sentence)\n",
    "print(\"Original Sentence:\", input_sentence)\n",
    "print(\"Sentence without Duplicate Words:\", result)\n"
   ]
  },
  {
   "cell_type": "code",
   "execution_count": 31,
   "id": "44444914-afb2-46f2-bb15-acb5bc09eab9",
   "metadata": {},
   "outputs": [
    {
     "name": "stdout",
     "output_type": "stream",
     "text": [
      "Mirror characters of MIRROR: RORRIM\n"
     ]
    }
   ],
   "source": [
    "#21.\tPython Dictionary to find mirror characters in a string\n",
    "def find_mirror_characters(input_str):\n",
    "    # Define mirror mapping using a dictionary\n",
    "    mirror_mapping = {'A': 'A', 'B': 'd', 'C': 'C', 'D': 'D', 'E': '3', 'F': 'F', 'G': 'G',\n",
    "                      'H': 'H', 'I': 'I', 'J': 'L', 'K': 'K', 'L': 'J', 'M': 'M', 'N': 'N',\n",
    "                      'O': 'O', 'P': 'q', 'Q': 'P', 'R': 'R', 'S': '2', 'T': 'T', 'U': 'U',\n",
    "                      'V': 'V', 'W': 'W', 'X': 'X', 'Y': 'Y', 'Z': '5', '1': '1', '2': 'S',\n",
    "                      '3': 'E', '4': 'h', '5': 'Z', '6': '9', '7': '7', '8': '8', '9': '6', '0': '0'}\n",
    "\n",
    "    # Find mirror characters in the string\n",
    "    mirror_chars = [mirror_mapping.get(char, '') for char in input_str[::-1]]\n",
    "\n",
    "    # Remove empty characters and convert the list to a string\n",
    "    mirror_str = ''.join(filter(lambda char: char != '', mirror_chars))\n",
    "\n",
    "    return mirror_str\n",
    "\n",
    "# Example usage:\n",
    "input_string = \"MIRROR\"\n",
    "\n",
    "result = find_mirror_characters(input_string)\n",
    "print(f\"Mirror characters of {input_string}: {result}\")\n"
   ]
  },
  {
   "cell_type": "code",
   "execution_count": 32,
   "id": "fa36030f-080e-4902-a259-1502e394c26d",
   "metadata": {},
   "outputs": [
    {
     "name": "stdout",
     "output_type": "stream",
     "text": [
      "Frequencies: {1: 4, 2: 3, 3: 2, 4: 1, 5: 1}\n"
     ]
    }
   ],
   "source": [
    "#22.\tCounting the frequencies in a list using dictionary in Python\n",
    "def count_frequencies(input_list):\n",
    "    frequency_dict = {}\n",
    "\n",
    "    # Count frequencies using a dictionary\n",
    "    for element in input_list:\n",
    "        frequency_dict[element] = frequency_dict.get(element, 0) + 1\n",
    "\n",
    "    return frequency_dict\n",
    "\n",
    "# Example usage:\n",
    "my_list = [1, 2, 3, 1, 2, 1, 4, 5, 3, 2, 1]\n",
    "\n",
    "result = count_frequencies(my_list)\n",
    "print(\"Frequencies:\", result)\n"
   ]
  },
  {
   "cell_type": "code",
   "execution_count": 33,
   "id": "76ff24c7-86eb-4244-ad07-9aebcfb38258",
   "metadata": {},
   "outputs": [
    {
     "name": "stdout",
     "output_type": "stream",
     "text": [
      "Original List of Tuples: [('a', 1), ('b', 2), ('c', 3)]\n",
      "Converted Dictionary: {'a': 1, 'b': 2, 'c': 3}\n"
     ]
    }
   ],
   "source": [
    "#23.\tPython | Convert a list of Tuples into Dictionary\n",
    "def list_of_tuples_to_dict(list_of_tuples):\n",
    "    my_dict = {key: value for key, value in list_of_tuples}\n",
    "    return my_dict\n",
    "\n",
    "# Example usage:\n",
    "list_of_tuples = [(\"a\", 1), (\"b\", 2), (\"c\", 3)]\n",
    "\n",
    "result_dict = list_of_tuples_to_dict(list_of_tuples)\n",
    "print(\"Original List of Tuples:\", list_of_tuples)\n",
    "print(\"Converted Dictionary:\", result_dict)\n"
   ]
  },
  {
   "cell_type": "code",
   "execution_count": 34,
   "id": "5d37f3f9-e9c4-4006-a074-e50e59837ead",
   "metadata": {},
   "outputs": [
    {
     "name": "stdout",
     "output_type": "stream",
     "text": [
      "String made using deletion and rearrangement: abcde\n"
     ]
    }
   ],
   "source": [
    "#24.\tPython counter and dictionary intersection example (Make a string using deletion and rearrangement)\n",
    "from collections import Counter\n",
    "\n",
    "def make_string_using_deletion(str1, str2):\n",
    "    # Count character frequencies in both strings\n",
    "    counter_str1 = Counter(str1)\n",
    "    counter_str2 = Counter(str2)\n",
    "\n",
    "    # Find the intersection of character frequencies\n",
    "    common_chars = counter_str1 & counter_str2\n",
    "\n",
    "    # Construct the resulting string by considering common characters\n",
    "    result_string = ''.join([char * common_chars[char] for char in sorted(common_chars)])\n",
    "\n",
    "    return result_string\n",
    "\n",
    "# Example usage:\n",
    "string1 = \"abcde\"\n",
    "string2 = \"cbade\"\n",
    "\n",
    "result = make_string_using_deletion(string1, string2)\n",
    "print(f\"String made using deletion and rearrangement: {result}\")\n"
   ]
  },
  {
   "cell_type": "code",
   "execution_count": 35,
   "id": "85ebff04-ec57-416f-98b2-353698afadbe",
   "metadata": {},
   "outputs": [
    {
     "name": "stdout",
     "output_type": "stream",
     "text": [
      "Can frequencies become the same? True\n"
     ]
    }
   ],
   "source": [
    "#25.\tPython dictionary, set and counter to check if frequencies can become same\n",
    "from collections import Counter\n",
    "\n",
    "def frequencies_can_become_same(input_str):\n",
    "    # Count the frequencies of characters\n",
    "    char_frequencies = Counter(input_str)\n",
    "\n",
    "    # Count the counts of frequencies\n",
    "    frequency_counts = Counter(char_frequencies.values())\n",
    "\n",
    "    # If there is only one distinct frequency or if there is exactly one frequency with count 1,\n",
    "    # the frequencies can become the same\n",
    "    return len(frequency_counts) == 1 or (len(frequency_counts) == 2 and (1 in frequency_counts.values() or abs(list(frequency_counts.keys())[0] - list(frequency_counts.keys())[1]) == 1))\n",
    "\n",
    "# Example usage:\n",
    "input_string = \"xyyz\"\n",
    "\n",
    "result = frequencies_can_become_same(input_string)\n",
    "print(f\"Can frequencies become the same? {result}\")\n"
   ]
  },
  {
   "cell_type": "code",
   "execution_count": 37,
   "id": "3410de44-a143-4ce5-a9b9-c14fd6d4e3cf",
   "metadata": {},
   "outputs": [
    {
     "name": "stdout",
     "output_type": "stream",
     "text": [
      "Ordered Words in the Dictionary:\n",
      "['doctype', 'html', 'html', 'head', 'title', 'title', 'meta', 'charset', 'utf', '8', 'meta', 'http', 'equiv', 'type', 'content', 'text', 'html', 'charset', 'utf', '8', 'meta', 'name', 'viewport', 'content', 'width', 'device', 'width', 'initial', 'scale', '1', 'style', 'type', 'text', 'css', 'body', 'background', 'color', 'f0f0f2', 'margin', '0', 'padding', '0', 'font', 'family', 'apple', 'system', 'system', 'ui', 'sans', 'serif', 'div', 'width', '600px', 'margin', '5em', 'auto', 'padding', '2em', 'background', 'color', 'fdfdff', 'border', 'radius', '0', '5em', 'box', 'shadow', '2px', '3px', '7px', '2px', 'rgba', '0', '0', '0', '0', '02', 'a', 'link', 'a', 'visited', 'color', '38488f', 'text', 'decoration', 'none', 'media', 'max', 'width', '700px', 'div', 'margin', '0', 'auto', 'width', 'auto', 'style', 'head', 'body', 'div', 'h1', 'h1', 'p', 'domain', 'is', 'for', 'use', 'in', 'illustrative', 'examples', 'in', 'documents', 'may', 'use', 'this', 'domain', 'in', 'literature', 'without', 'prior', 'coordination', 'or', 'asking', 'for', 'permission', 'p', 'p', 'a', 'href', 'https', 'www', 'iana', 'org', 'domains', 'example', 'information', 'a', 'p', 'div', 'body', 'html']\n"
     ]
    }
   ],
   "source": [
    "#26.\tScraping And Finding Ordered Words In A Dictionary using Python\n",
    "import urllib.request\n",
    "import re\n",
    "\n",
    "def scrape_and_find_ordered_words(url):\n",
    "    try:\n",
    "        # Make an HTTP request\n",
    "        response = urllib.request.urlopen(url)\n",
    "        html_content = response.read().decode('utf-8')\n",
    "\n",
    "        # Extract words from HTML content using regular expressions\n",
    "        words = re.findall(r'\\b\\w+\\b', html_content)\n",
    "\n",
    "        # Find ordered words (e.g., words starting with 'a', 'b', 'c', ...)\n",
    "        ordered_words = [word for word in words if word.lower() == word]\n",
    "\n",
    "        return ordered_words\n",
    "\n",
    "    except Exception as e:\n",
    "        print(f\"Error: {e}\")\n",
    "        return None\n",
    "\n",
    "# Example usage:\n",
    "url = 'https://www.example.com'\n",
    "result = scrape_and_find_ordered_words(url)\n",
    "\n",
    "if result:\n",
    "    print(\"Ordered Words in the Dictionary:\")\n",
    "    print(result)\n",
    "else:\n",
    "    print(\"Unable to scrape and find ordered words.\")\n"
   ]
  },
  {
   "cell_type": "code",
   "execution_count": 38,
   "id": "89cd000d-bf6c-492f-84d9-19c9c56f1890",
   "metadata": {},
   "outputs": [
    {
     "name": "stdout",
     "output_type": "stream",
     "text": [
      "Possible Words: ['leap', 'plea', 'pal']\n"
     ]
    }
   ],
   "source": [
    "#27.\tPossible Words using given characters in Python\n",
    "def possible_words(letters, word_list):\n",
    "    # Filter words that can be formed using the given letters\n",
    "    valid_words = [word for word in word_list if all(word.count(char) <= letters.count(char) for char in word)]\n",
    "\n",
    "    return valid_words\n",
    "\n",
    "# Example usage:\n",
    "given_letters = \"aepl\"\n",
    "word_list = [\"apple\", \"pear\", \"leap\", \"plea\", \"pal\"]\n",
    "\n",
    "result = possible_words(given_letters, word_list)\n",
    "print(\"Possible Words:\", result)\n"
   ]
  },
  {
   "cell_type": "code",
   "execution_count": 39,
   "id": "65d49dc4-fb1b-4b7a-82f5-dcf248a2b075",
   "metadata": {},
   "outputs": [
    {
     "name": "stdout",
     "output_type": "stream",
     "text": [
      "Keys associated with the value 1: ['a', 'c']\n"
     ]
    }
   ],
   "source": [
    "#28.\tPython – Keys associated with Values in Dictionary\n",
    "def keys_for_value(input_dict, target_value):\n",
    "    # Using list comprehension to find keys associated with the target value\n",
    "    keys_list = [key for key, value in input_dict.items() if value == target_value]\n",
    "    return keys_list\n",
    "\n",
    "# Example usage:\n",
    "my_dict = {'a': 1, 'b': 2, 'c': 1, 'd': 3, 'e': 2}\n",
    "\n",
    "target_value = 1\n",
    "result_keys = keys_for_value(my_dict, target_value)\n",
    "\n",
    "print(f\"Keys associated with the value {target_value}: {result_keys}\")\n"
   ]
  },
  {
   "cell_type": "code",
   "execution_count": 40,
   "id": "b619e0ce-a09f-43dd-9cfd-08a96906c23f",
   "metadata": {},
   "outputs": [
    {
     "name": "stdout",
     "output_type": "stream",
     "text": [
      "Size of the tuple: 88 bytes\n"
     ]
    }
   ],
   "source": [
    "#1.\tPython program to Find the size of a Tuple\n",
    "import sys\n",
    "\n",
    "def get_tuple_size(my_tuple):\n",
    "    return sys.getsizeof(my_tuple)\n",
    "\n",
    "# Example usage:\n",
    "my_tuple = (1, 2, 3, 'a', 'b', 'c')\n",
    "size_of_tuple = get_tuple_size(my_tuple)\n",
    "\n",
    "print(f\"Size of the tuple: {size_of_tuple} bytes\")\n"
   ]
  },
  {
   "cell_type": "code",
   "execution_count": 41,
   "id": "fe603fba-8b89-4314-818f-f781dc56efb3",
   "metadata": {},
   "outputs": [
    {
     "name": "stdout",
     "output_type": "stream",
     "text": [
      "Maximum 3 elements: [9, 8, 7]\n",
      "Minimum 3 elements: [1, 2, 3]\n"
     ]
    }
   ],
   "source": [
    "#2.\tPython – Maximum and Minimum K elements in Tuple\n",
    "import heapq\n",
    "\n",
    "def find_max_min_k_elements(my_tuple, k):\n",
    "    max_k_elements = heapq.nlargest(k, my_tuple)\n",
    "    min_k_elements = heapq.nsmallest(k, my_tuple)\n",
    "\n",
    "    return max_k_elements, min_k_elements\n",
    "\n",
    "# Example usage:\n",
    "my_tuple = (5, 2, 8, 1, 9, 3, 6, 7, 4)\n",
    "k = 3\n",
    "\n",
    "max_k, min_k = find_max_min_k_elements(my_tuple, k)\n",
    "\n",
    "print(f\"Maximum {k} elements: {max_k}\")\n",
    "print(f\"Minimum {k} elements: {min_k}\")\n"
   ]
  },
  {
   "cell_type": "code",
   "execution_count": 42,
   "id": "85585d6b-931b-482b-a0a9-cea181aefdcc",
   "metadata": {},
   "outputs": [
    {
     "name": "stdout",
     "output_type": "stream",
     "text": [
      "[(1, 1), (2, 8), (3, 27), (4, 64), (5, 125)]\n"
     ]
    }
   ],
   "source": [
    "#3.\tCreate a list of tuples from given list having number and its cube in each tuple\n",
    "def create_list_of_tuples(input_list):\n",
    "    result_list = [(num, num**3) for num in input_list]\n",
    "    return result_list\n",
    "\n",
    "# Example usage:\n",
    "numbers_list = [1, 2, 3, 4, 5]\n",
    "tuples_list = create_list_of_tuples(numbers_list)\n",
    "\n",
    "print(tuples_list)\n"
   ]
  },
  {
   "cell_type": "code",
   "execution_count": 43,
   "id": "330a6465-e6ef-4e12-a784-e3939a97a657",
   "metadata": {},
   "outputs": [
    {
     "name": "stdout",
     "output_type": "stream",
     "text": [
      "List after adding tuple: [1, 2, 3, (4, 5, 6)]\n"
     ]
    }
   ],
   "source": [
    "#4.\tPython – Adding Tuple to List and vice – versa\n",
    "# Adding a tuple to a list using append()\n",
    "my_list = [1, 2, 3]\n",
    "my_tuple = (4, 5, 6)\n",
    "\n",
    "my_list.append(my_tuple)\n",
    "\n",
    "print(\"List after adding tuple:\", my_list)\n"
   ]
  },
  {
   "cell_type": "code",
   "execution_count": 44,
   "id": "59f7e20c-12ad-4a4b-8971-c505b531f1cf",
   "metadata": {},
   "outputs": [
    {
     "name": "stdout",
     "output_type": "stream",
     "text": [
      "Tuple after adding list: (1, 2, 3, 4, 5, 6)\n"
     ]
    }
   ],
   "source": [
    "# Adding a list to a tuple using concatenation\n",
    "my_tuple = (1, 2, 3)\n",
    "my_list = [4, 5, 6]\n",
    "\n",
    "new_tuple = my_tuple + tuple(my_list)\n",
    "\n",
    "print(\"Tuple after adding list:\", new_tuple)\n"
   ]
  },
  {
   "cell_type": "code",
   "execution_count": 45,
   "id": "36d8e19f-6981-4ad1-8119-ef25fa9e7dc9",
   "metadata": {},
   "outputs": [
    {
     "name": "stdout",
     "output_type": "stream",
     "text": [
      "Closest pair to the 2th index element (9) is: 5\n"
     ]
    }
   ],
   "source": [
    "#5.\tPython – Closest Pair to Kth index element in Tuple\n",
    "def closest_pair_to_kth_index(my_tuple, k):\n",
    "    kth_element = my_tuple[k]\n",
    "    distances = [(abs(kth_element - element), element) for element in my_tuple if element != kth_element]\n",
    "    \n",
    "    closest_pair = min(distances, key=lambda x: x[0])\n",
    "\n",
    "    return closest_pair\n",
    "\n",
    "# Example usage:\n",
    "my_tuple = (1, 5, 9, 15, 20)\n",
    "k = 2\n",
    "\n",
    "result = closest_pair_to_kth_index(my_tuple, k)\n",
    "\n",
    "print(f\"Closest pair to the {k}th index element ({my_tuple[k]}) is: {result[1]}\")\n"
   ]
  },
  {
   "cell_type": "code",
   "execution_count": 2,
   "id": "9a04a99e-884a-41d7-b646-0094ead6ec9c",
   "metadata": {},
   "outputs": [
    {
     "name": "stdout",
     "output_type": "stream",
     "text": [
      "Original list of tuples: [(1, 'a'), (2, 'b'), (1, 'c'), (3, 'd'), (2, 'e')]\n",
      "Joined tuples with similar initial elements: [('a', 'c'), ('b', 'e'), (3, 'd')]\n"
     ]
    }
   ],
   "source": [
    "#6.\tPython – Join Tuples if similar initial element\n",
    "def join_tuples_with_similar_initial_element(tuple_list):\n",
    "    result_list = []\n",
    "    temp_dict = {}\n",
    "\n",
    "    for tup in tuple_list:\n",
    "        initial_element = tup[0]\n",
    "\n",
    "        if initial_element not in temp_dict:\n",
    "            temp_dict[initial_element] = [tup]\n",
    "        else:\n",
    "            temp_dict[initial_element].append(tup)\n",
    "\n",
    "    for key, value in temp_dict.items():\n",
    "        if len(value) > 1:\n",
    "            joined_tuple = tuple(sum((tuple(elem[1:]) for elem in value), ()))\n",
    "            result_list.append(joined_tuple)\n",
    "        else:\n",
    "            result_list.append(value[0])\n",
    "\n",
    "    return result_list\n",
    "\n",
    "# Example usage:\n",
    "tuple_list = [(1, 'a'), (2, 'b'), (1, 'c'), (3, 'd'), (2, 'e')]\n",
    "joined_tuples = join_tuples_with_similar_initial_element(tuple_list)\n",
    "\n",
    "print(\"Original list of tuples:\", tuple_list)\n",
    "print(\"Joined tuples with similar initial elements:\", joined_tuples)\n",
    "\n",
    "\n",
    "\n"
   ]
  },
  {
   "cell_type": "code",
   "execution_count": 3,
   "id": "ba5d6041-f35f-4bc9-b308-56c76b73b150",
   "metadata": {},
   "outputs": [
    {
     "name": "stdout",
     "output_type": "stream",
     "text": [
      "Original list of tuples: [(1, 'a', 23.45), ('b', 456, 'c'), (789, 'd', 10)]\n",
      "Extracted digits: [1, 2, 3, 4, 5, 4, 5, 6, 7, 8, 9, 1, 0]\n"
     ]
    }
   ],
   "source": [
    "#7.\tPython – Extract digits from Tuple list\n",
    "def extract_digits_from_tuple_list(tuple_list):\n",
    "    digits_list = [int(digit) for tup in tuple_list for element in tup if isinstance(element, (int, float, str)) for digit in str(element) if digit.isdigit()]\n",
    "    return digits_list\n",
    "\n",
    "# Example usage:\n",
    "tuple_list = [(1, 'a', 23.45), ('b', 456, 'c'), (789, 'd', 10)]\n",
    "extracted_digits = extract_digits_from_tuple_list(tuple_list)\n",
    "\n",
    "print(\"Original list of tuples:\", tuple_list)\n",
    "print(\"Extracted digits:\", extracted_digits)\n"
   ]
  },
  {
   "cell_type": "code",
   "execution_count": 4,
   "id": "bf3354ab-0c94-4bda-900c-4a3ed6474cce",
   "metadata": {},
   "outputs": [
    {
     "name": "stdout",
     "output_type": "stream",
     "text": [
      "(1, 'a')\n",
      "(1, 'b')\n",
      "(1, 'c')\n",
      "(2, 'a')\n",
      "(2, 'b')\n",
      "(2, 'c')\n",
      "(3, 'a')\n",
      "(3, 'b')\n",
      "(3, 'c')\n"
     ]
    }
   ],
   "source": [
    "#8.\tPython – All pair combinations of 2 tuples\n",
    "from itertools import product\n",
    "\n",
    "# Two tuples\n",
    "tuple1 = (1, 2, 3)\n",
    "tuple2 = ('a', 'b', 'c')\n",
    "\n",
    "# Get all pair combinations\n",
    "combinations = list(product(tuple1, tuple2))\n",
    "\n",
    "# Print the result\n",
    "for pair in combinations:\n",
    "    print(pair)\n"
   ]
  },
  {
   "cell_type": "code",
   "execution_count": 5,
   "id": "9fa817cb-2e7b-41c4-9818-b6bd5b0c4c78",
   "metadata": {},
   "outputs": [
    {
     "name": "stdout",
     "output_type": "stream",
     "text": [
      "[('a', 'b'), (4, 5)]\n"
     ]
    }
   ],
   "source": [
    "#9.\tPython – Remove Tuples of Length K\n",
    "# List of tuples\n",
    "list_of_tuples = [(1, 2, 3), ('a', 'b'), (4, 5), ('x', 'y', 'z')]\n",
    "\n",
    "# Length to be removed (change k to your desired length)\n",
    "k = 3\n",
    "\n",
    "# Remove tuples of length k\n",
    "filtered_tuples = [tup for tup in list_of_tuples if len(tup) != k]\n",
    "\n",
    "# Print the result\n",
    "print(filtered_tuples)\n"
   ]
  },
  {
   "cell_type": "code",
   "execution_count": 6,
   "id": "58e824ed-910b-42cb-a8e1-62fb5b3736b1",
   "metadata": {},
   "outputs": [
    {
     "name": "stdout",
     "output_type": "stream",
     "text": [
      "[(4, 1), (3, 2), (1, 5), (2, 8)]\n"
     ]
    }
   ],
   "source": [
    "#10.\tSort a list of tuples by second Item\n",
    "# List of tuples\n",
    "list_of_tuples = [(1, 5), (3, 2), (2, 8), (4, 1)]\n",
    "\n",
    "# Sort the list of tuples by the second item\n",
    "sorted_tuples = sorted(list_of_tuples, key=lambda x: x[1])\n",
    "\n",
    "# Print the result\n",
    "print(sorted_tuples)\n"
   ]
  },
  {
   "cell_type": "code",
   "execution_count": 7,
   "id": "290a28a4-656e-4bc7-8ef5-313144c47c3d",
   "metadata": {},
   "outputs": [
    {
     "name": "stdout",
     "output_type": "stream",
     "text": [
      "[('orange', 5), ('banana', 2), ('grape', 1), ('apple', 3)]\n"
     ]
    }
   ],
   "source": [
    "#11.\tPython program to Order Tuples using external List\n",
    "# List of tuples\n",
    "list_of_tuples = [('apple', 3), ('banana', 2), ('orange', 5), ('grape', 1)]\n",
    "\n",
    "# External list to define the order\n",
    "order_list = ['orange', 'banana', 'grape', 'apple']\n",
    "\n",
    "# Sort the list of tuples based on the order of elements in the external list\n",
    "sorted_tuples = sorted(list_of_tuples, key=lambda x: order_list.index(x[0]))\n",
    "\n",
    "# Print the result\n",
    "print(sorted_tuples)\n"
   ]
  },
  {
   "cell_type": "code",
   "execution_count": 8,
   "id": "903d851a-ad27-4d13-bea5-f98d32c61f59",
   "metadata": {},
   "outputs": [
    {
     "name": "stdout",
     "output_type": "stream",
     "text": [
      "(1, 2, 3, 'a', 'b', 'c', 4, 5, 6)\n"
     ]
    }
   ],
   "source": [
    "#12.\tPython – Flatten tuple of List to tuple\n",
    "from itertools import chain\n",
    "\n",
    "# Tuple of lists\n",
    "tuple_of_lists = ([1, 2, 3], ['a', 'b', 'c'], [4, 5, 6])\n",
    "\n",
    "# Flatten the tuple of lists into a single tuple\n",
    "flattened_tuple = tuple(chain(*tuple_of_lists))\n",
    "\n",
    "# Print the result\n",
    "print(flattened_tuple)\n"
   ]
  },
  {
   "cell_type": "code",
   "execution_count": 9,
   "id": "84573a36-b005-44f6-9b35-a404f409c8c4",
   "metadata": {},
   "outputs": [
    {
     "name": "stdout",
     "output_type": "stream",
     "text": [
      "{1: 'one', 2: 'two', 3: 'three'}\n"
     ]
    }
   ],
   "source": [
    "#13.\tPython – Convert Nested Tuple to Custom Key Dictionary\n",
    "# Nested tuple\n",
    "nested_tuple = ((1, 'one'), (2, 'two'), (3, 'three'))\n",
    "\n",
    "# Convert nested tuple to dictionary with custom key\n",
    "custom_key_dict = {key: value for key, value in nested_tuple}\n",
    "\n",
    "# Print the result\n",
    "print(custom_key_dict)\n"
   ]
  },
  {
   "cell_type": "code",
   "execution_count": null,
   "id": "c68e6dd2-6d3b-4666-8e68-f9abf385145b",
   "metadata": {},
   "outputs": [],
   "source": []
  }
 ],
 "metadata": {
  "kernelspec": {
   "display_name": "Python 3 (ipykernel)",
   "language": "python",
   "name": "python3"
  },
  "language_info": {
   "codemirror_mode": {
    "name": "ipython",
    "version": 3
   },
   "file_extension": ".py",
   "mimetype": "text/x-python",
   "name": "python",
   "nbconvert_exporter": "python",
   "pygments_lexer": "ipython3",
   "version": "3.12.1"
  }
 },
 "nbformat": 4,
 "nbformat_minor": 5
}
